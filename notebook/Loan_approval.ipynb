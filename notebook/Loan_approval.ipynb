{
 "cells": [
  {
   "cell_type": "markdown",
   "id": "8c3d9dfb",
   "metadata": {
    "papermill": {
     "duration": 0.030648,
     "end_time": "2023-11-27T19:29:20.895689",
     "exception": false,
     "start_time": "2023-11-27T19:29:20.865041",
     "status": "completed"
    },
    "tags": []
   },
   "source": [
    "# About Dataset\n",
    "#### This dataset provides a comprehensive overview of potential loan applicants' profiles, specifically tailored for the Indian demographic. It encapsulates a range of features, from basic demographics to financial details, that can be instrumental in assessing the creditworthiness of an individual.\n",
    "\n",
    "1. **Age**\n",
    "    * **Type:** Integer\n",
    "    * **Description:** Represents the age of the applicant. Indicates the applicant's maturity level.\n",
    "    * **Range:** 18 to 70\n",
    "\n",
    "2. **Gender**\n",
    "    * **Type:** Categorical\n",
    "    * **Description:** Gender of the applicant.\n",
    "    * **Categories:** Male, Female, Other\n",
    "\n",
    "3. **Income**\n",
    "    * **Type:** Integer\n",
    "    * **Description:** The applicant's income, which is critical in assessing their ability to repay the loan.\n",
    "    * **Range:** Multiples of 1000's\n",
    "\n",
    "4. **Credit Score**\n",
    "    * **Type:** Integer\n",
    "    * **Description:** A score quantifying the applicant's creditworthiness based on their credit history.\n",
    "    * **Range:** 300 to 850\n",
    "\n",
    "5. **Credit History Length**\n",
    "    * **Type:** Integer\n",
    "    * **Description:** Represents the number of months since the applicant's first credit line. Indicates the applicant's experience with credit management.\n",
    "    * **Units:** Months\n",
    "\n",
    "6. **Number of Existing Loans**\n",
    "    * **Type:** Integer\n",
    "    * **Description:** The number of loans the applicant currently has.\n",
    "    * **Range:** 0 to 10\n",
    "\n",
    "7. **Loan Amount**\n",
    "    * **Type:** Integer\n",
    "    * **Description:** The amount of money the applicant is requesting.\n",
    "    * **Range:** 0 to 150,000\n",
    "\n",
    "8. **Loan Tenure**\n",
    "    * **Type:** Integer\n",
    "    * **Description:** The number of months the applicant wants to repay the loan over.\n",
    "    * **Units:** Months\n",
    "\n",
    "9. **Existing Customer**\n",
    "    * **Type:** Categorical\n",
    "    * **Description:** Whether the applicant is an existing customer of the finance company.\n",
    "    * **Categories:** Yes, No\n",
    "\n",
    "10. **State**\n",
    "    * **Type:** Categorical\n",
    "    * **Description:** The state in India where the applicant resides.\n",
    "    * **Categories:** Maharashtra, Delhi, Karnataka, Tamil Nadu, West Bengal, Uttar Pradesh, Gujarat, Rajasthan, Kerala, Telangana, etc.\n",
    "\n",
    "11. **City**\n",
    "    * **Type:** Categorical\n",
    "    * **Description:** The city or village in India where the applicant resides.\n",
    "    * **Categories:** Mumbai, Pune, New Delhi, Bengaluru, Chennai, Kolkata, Ahmedabad, Jaipur, Kochi, Hyderabad, and various villages.\n",
    "\n",
    "12. **LTV Ratio**\n",
    "    * **Type:** Float\n",
    "    * **Description:** The loan-to-value ratio, represents the ratio of the loan amount to the appraised value of the asset (typically a house). Higher LTVs can indicate higher risk.\n",
    "    * **Range:** 40% to 95%\n",
    "\n",
    "13. **Employment Profile**\n",
    "    * **Type:** Categorical\n",
    "    * **Description:** General employment category of the applicant.\n",
    "    * **Categories:**: Salaried, Self-Employed, Freelancer, Unemployed, Student\n",
    "\n",
    "14. **Occupation**\n",
    "    * **Type:** Categorical\n",
    "    * **Description:** Specific occupation or job title of the applicant.\n",
    "    * **Categories:** Software Engineer, Doctor, Teacher, Business Owner, Writer, etc.\n",
    "\n",
    "15. **Profile Score**\n",
    "    * **Type:** Integer\n",
    "    * **Description:** A score ranging from 0 to 100 represents the overall profile of the applicant based on the actual loan repayment data. Higher values indicate better profiles.\n",
    "    * **Range:** 0 to 100"
   ]
  },
  {
   "cell_type": "markdown",
   "id": "59ddfdd3",
   "metadata": {
    "papermill": {
     "duration": 0.030495,
     "end_time": "2023-11-27T19:29:20.957706",
     "exception": false,
     "start_time": "2023-11-27T19:29:20.927211",
     "status": "completed"
    },
    "tags": []
   },
   "source": [
    "# 1. Preliminary Data Analysis"
   ]
  },
  {
   "cell_type": "markdown",
   "id": "f3803341",
   "metadata": {
    "papermill": {
     "duration": 0.033198,
     "end_time": "2023-11-27T19:29:21.022000",
     "exception": false,
     "start_time": "2023-11-27T19:29:20.988802",
     "status": "completed"
    },
    "tags": []
   },
   "source": [
    "## 1.1 Importing the libraries"
   ]
  },
  {
   "cell_type": "code",
   "execution_count": 2,
   "id": "0e69f3b4",
   "metadata": {
    "execution": {
     "iopub.execute_input": "2023-11-27T19:29:21.084685Z",
     "iopub.status.busy": "2023-11-27T19:29:21.084172Z",
     "iopub.status.idle": "2023-11-27T19:29:26.300841Z",
     "shell.execute_reply": "2023-11-27T19:29:26.299301Z"
    },
    "papermill": {
     "duration": 5.252539,
     "end_time": "2023-11-27T19:29:26.304170",
     "exception": false,
     "start_time": "2023-11-27T19:29:21.051631",
     "status": "completed"
    },
    "tags": []
   },
   "outputs": [
    {
     "data": {
      "text/html": [
       "<style type='text/css'>\n",
       ".datatable table.frame { margin-bottom: 0; }\n",
       ".datatable table.frame thead { border-bottom: none; }\n",
       ".datatable table.frame tr.coltypes td {  color: #FFFFFF;  line-height: 6px;  padding: 0 0.5em;}\n",
       ".datatable .bool    { background: #DDDD99; }\n",
       ".datatable .object  { background: #565656; }\n",
       ".datatable .int     { background: #5D9E5D; }\n",
       ".datatable .float   { background: #4040CC; }\n",
       ".datatable .str     { background: #CC4040; }\n",
       ".datatable .time    { background: #40CC40; }\n",
       ".datatable .row_index {  background: var(--jp-border-color3);  border-right: 1px solid var(--jp-border-color0);  color: var(--jp-ui-font-color3);  font-size: 9px;}\n",
       ".datatable .frame tbody td { text-align: left; }\n",
       ".datatable .frame tr.coltypes .row_index {  background: var(--jp-border-color0);}\n",
       ".datatable th:nth-child(2) { padding-left: 12px; }\n",
       ".datatable .hellipsis {  color: var(--jp-cell-editor-border-color);}\n",
       ".datatable .vellipsis {  background: var(--jp-layout-color0);  color: var(--jp-cell-editor-border-color);}\n",
       ".datatable .na {  color: var(--jp-cell-editor-border-color);  font-size: 80%;}\n",
       ".datatable .sp {  opacity: 0.25;}\n",
       ".datatable .footer { font-size: 9px; }\n",
       ".datatable .frame_dimensions {  background: var(--jp-border-color3);  border-top: 1px solid var(--jp-border-color0);  color: var(--jp-ui-font-color3);  display: inline-block;  opacity: 0.6;  padding: 1px 10px 1px 5px;}\n",
       "</style>\n"
      ],
      "text/plain": [
       "<IPython.core.display.HTML object>"
      ]
     },
     "metadata": {},
     "output_type": "display_data"
    }
   ],
   "source": [
    "#importing and pre-processing data\n",
    "import numpy as np\n",
    "import pandas as pd\n",
    "from sklearn.preprocessing import LabelEncoder\n",
    "from sklearn.compose import make_column_selector\n",
    "\n",
    "#visualizing data\n",
    "import matplotlib.pyplot as plt\n",
    "%matplotlib inline\n",
    "import seaborn as sns\n",
    "\n",
    "#training data \n",
    "from sklearn.model_selection import train_test_split,KFold,cross_val_score\n",
    "from sklearn.ensemble import RandomForestClassifier,AdaBoostClassifier\n",
    "from sklearn.naive_bayes import GaussianNB\n",
    "from sklearn.tree import DecisionTreeClassifier\n",
    "import xgboost as xgb \n",
    "import lightgbm as ltb\n",
    "\n",
    "#checking models accuracy\n",
    "from sklearn.metrics import accuracy_score,classification_report,confusion_matrix\n",
    "\n",
    "#saving model\n",
    "import joblib"
   ]
  },
  {
   "cell_type": "markdown",
   "id": "7b8489fb",
   "metadata": {
    "papermill": {
     "duration": 0.031128,
     "end_time": "2023-11-27T19:29:26.366282",
     "exception": false,
     "start_time": "2023-11-27T19:29:26.335154",
     "status": "completed"
    },
    "tags": []
   },
   "source": [
    "## 1.2 Dataset"
   ]
  },
  {
   "cell_type": "code",
   "execution_count": 3,
   "id": "0da7e3a3",
   "metadata": {
    "execution": {
     "iopub.execute_input": "2023-11-27T19:29:26.428275Z",
     "iopub.status.busy": "2023-11-27T19:29:26.427753Z",
     "iopub.status.idle": "2023-11-27T19:29:27.552820Z",
     "shell.execute_reply": "2023-11-27T19:29:27.551198Z"
    },
    "papermill": {
     "duration": 1.159842,
     "end_time": "2023-11-27T19:29:27.556366",
     "exception": false,
     "start_time": "2023-11-27T19:29:26.396524",
     "status": "completed"
    },
    "tags": []
   },
   "outputs": [
    {
     "data": {
      "text/html": [
       "<div>\n",
       "<style scoped>\n",
       "    .dataframe tbody tr th:only-of-type {\n",
       "        vertical-align: middle;\n",
       "    }\n",
       "\n",
       "    .dataframe tbody tr th {\n",
       "        vertical-align: top;\n",
       "    }\n",
       "\n",
       "    .dataframe thead th {\n",
       "        text-align: right;\n",
       "    }\n",
       "</style>\n",
       "<table border=\"1\" class=\"dataframe\">\n",
       "  <thead>\n",
       "    <tr style=\"text-align: right;\">\n",
       "      <th></th>\n",
       "      <th>Age</th>\n",
       "      <th>Gender</th>\n",
       "      <th>Income</th>\n",
       "      <th>Credit Score</th>\n",
       "      <th>Credit History Length</th>\n",
       "      <th>Number of Existing Loans</th>\n",
       "      <th>Loan Amount</th>\n",
       "      <th>Loan Tenure</th>\n",
       "      <th>Existing Customer</th>\n",
       "      <th>State</th>\n",
       "      <th>City</th>\n",
       "      <th>LTV Ratio</th>\n",
       "      <th>Employment Profile</th>\n",
       "      <th>Profile Score</th>\n",
       "      <th>Occupation</th>\n",
       "    </tr>\n",
       "  </thead>\n",
       "  <tbody>\n",
       "    <tr>\n",
       "      <th>0</th>\n",
       "      <td>31</td>\n",
       "      <td>Male</td>\n",
       "      <td>36000</td>\n",
       "      <td>604</td>\n",
       "      <td>487</td>\n",
       "      <td>5</td>\n",
       "      <td>109373</td>\n",
       "      <td>221</td>\n",
       "      <td>No</td>\n",
       "      <td>Karnataka</td>\n",
       "      <td>Mysuru</td>\n",
       "      <td>90.943430</td>\n",
       "      <td>Salaried</td>\n",
       "      <td>77</td>\n",
       "      <td>Doctor</td>\n",
       "    </tr>\n",
       "    <tr>\n",
       "      <th>1</th>\n",
       "      <td>25</td>\n",
       "      <td>Male</td>\n",
       "      <td>50000</td>\n",
       "      <td>447</td>\n",
       "      <td>386</td>\n",
       "      <td>2</td>\n",
       "      <td>150000</td>\n",
       "      <td>89</td>\n",
       "      <td>No</td>\n",
       "      <td>Karnataka</td>\n",
       "      <td>Bengaluru</td>\n",
       "      <td>91.135253</td>\n",
       "      <td>Salaried</td>\n",
       "      <td>43</td>\n",
       "      <td>Software Engineer</td>\n",
       "    </tr>\n",
       "    <tr>\n",
       "      <th>2</th>\n",
       "      <td>62</td>\n",
       "      <td>Other</td>\n",
       "      <td>178000</td>\n",
       "      <td>850</td>\n",
       "      <td>503</td>\n",
       "      <td>10</td>\n",
       "      <td>69099</td>\n",
       "      <td>110</td>\n",
       "      <td>Yes</td>\n",
       "      <td>Uttar Pradesh</td>\n",
       "      <td>Kanpur</td>\n",
       "      <td>40.000000</td>\n",
       "      <td>Salaried</td>\n",
       "      <td>90</td>\n",
       "      <td>Banker</td>\n",
       "    </tr>\n",
       "    <tr>\n",
       "      <th>3</th>\n",
       "      <td>69</td>\n",
       "      <td>Female</td>\n",
       "      <td>46000</td>\n",
       "      <td>668</td>\n",
       "      <td>349</td>\n",
       "      <td>6</td>\n",
       "      <td>150000</td>\n",
       "      <td>148</td>\n",
       "      <td>Yes</td>\n",
       "      <td>Karnataka</td>\n",
       "      <td>Bengaluru</td>\n",
       "      <td>87.393365</td>\n",
       "      <td>Self-Employed</td>\n",
       "      <td>86</td>\n",
       "      <td>Contractor</td>\n",
       "    </tr>\n",
       "    <tr>\n",
       "      <th>4</th>\n",
       "      <td>52</td>\n",
       "      <td>Male</td>\n",
       "      <td>132000</td>\n",
       "      <td>601</td>\n",
       "      <td>553</td>\n",
       "      <td>5</td>\n",
       "      <td>150000</td>\n",
       "      <td>157</td>\n",
       "      <td>No</td>\n",
       "      <td>Karnataka</td>\n",
       "      <td>Mysuru</td>\n",
       "      <td>66.158757</td>\n",
       "      <td>Salaried</td>\n",
       "      <td>90</td>\n",
       "      <td>Teacher</td>\n",
       "    </tr>\n",
       "  </tbody>\n",
       "</table>\n",
       "</div>"
      ],
      "text/plain": [
       "   Age  Gender  Income  Credit Score  Credit History Length  \\\n",
       "0   31    Male   36000           604                    487   \n",
       "1   25    Male   50000           447                    386   \n",
       "2   62   Other  178000           850                    503   \n",
       "3   69  Female   46000           668                    349   \n",
       "4   52    Male  132000           601                    553   \n",
       "\n",
       "   Number of Existing Loans  Loan Amount  Loan Tenure Existing Customer  \\\n",
       "0                         5       109373          221                No   \n",
       "1                         2       150000           89                No   \n",
       "2                        10        69099          110               Yes   \n",
       "3                         6       150000          148               Yes   \n",
       "4                         5       150000          157                No   \n",
       "\n",
       "           State       City  LTV Ratio Employment Profile  Profile Score  \\\n",
       "0      Karnataka     Mysuru  90.943430           Salaried             77   \n",
       "1      Karnataka  Bengaluru  91.135253           Salaried             43   \n",
       "2  Uttar Pradesh     Kanpur  40.000000           Salaried             90   \n",
       "3      Karnataka  Bengaluru  87.393365      Self-Employed             86   \n",
       "4      Karnataka     Mysuru  66.158757           Salaried             90   \n",
       "\n",
       "          Occupation  \n",
       "0             Doctor  \n",
       "1  Software Engineer  \n",
       "2             Banker  \n",
       "3         Contractor  \n",
       "4            Teacher  "
      ]
     },
     "execution_count": 3,
     "metadata": {},
     "output_type": "execute_result"
    }
   ],
   "source": [
    "df=pd.read_csv(\"credit_data.csv\")\n",
    "df.head()"
   ]
  },
  {
   "cell_type": "markdown",
   "id": "4526580c",
   "metadata": {
    "papermill": {
     "duration": 0.031336,
     "end_time": "2023-11-27T19:29:27.618535",
     "exception": false,
     "start_time": "2023-11-27T19:29:27.587199",
     "status": "completed"
    },
    "tags": []
   },
   "source": [
    "We should make certain changes to _**customer_id**_ column:\n",
    "  * Strip the str to make it an integer column for easy data processing.\n",
    "  * Set it as index because it contains unique values and is not of much use in predicting the outcome.\n",
    "  * Sort values according to the index."
   ]
  },
  {
   "cell_type": "markdown",
   "id": "2eb37093",
   "metadata": {
    "papermill": {
     "duration": 0.030333,
     "end_time": "2023-11-27T19:29:27.679882",
     "exception": false,
     "start_time": "2023-11-27T19:29:27.649549",
     "status": "completed"
    },
    "tags": []
   },
   "source": [
    "## 1.3 Columns & thier Datatypes"
   ]
  },
  {
   "cell_type": "code",
   "execution_count": 4,
   "id": "848c7ba7",
   "metadata": {
    "execution": {
     "iopub.execute_input": "2023-11-27T19:29:27.746361Z",
     "iopub.status.busy": "2023-11-27T19:29:27.745879Z",
     "iopub.status.idle": "2023-11-27T19:29:27.965656Z",
     "shell.execute_reply": "2023-11-27T19:29:27.963491Z"
    },
    "papermill": {
     "duration": 0.255593,
     "end_time": "2023-11-27T19:29:27.968960",
     "exception": false,
     "start_time": "2023-11-27T19:29:27.713367",
     "status": "completed"
    },
    "tags": []
   },
   "outputs": [
    {
     "name": "stdout",
     "output_type": "stream",
     "text": [
      "<class 'pandas.core.frame.DataFrame'>\n",
      "RangeIndex: 279856 entries, 0 to 279855\n",
      "Data columns (total 15 columns):\n",
      " #   Column                    Non-Null Count   Dtype  \n",
      "---  ------                    --------------   -----  \n",
      " 0   Age                       279856 non-null  int64  \n",
      " 1   Gender                    279856 non-null  object \n",
      " 2   Income                    279856 non-null  int64  \n",
      " 3   Credit Score              279856 non-null  int64  \n",
      " 4   Credit History Length     279856 non-null  int64  \n",
      " 5   Number of Existing Loans  279856 non-null  int64  \n",
      " 6   Loan Amount               279856 non-null  int64  \n",
      " 7   Loan Tenure               279856 non-null  int64  \n",
      " 8   Existing Customer         279856 non-null  object \n",
      " 9   State                     279856 non-null  object \n",
      " 10  City                      279856 non-null  object \n",
      " 11  LTV Ratio                 279856 non-null  float64\n",
      " 12  Employment Profile        279856 non-null  object \n",
      " 13  Profile Score             279856 non-null  int64  \n",
      " 14  Occupation                261584 non-null  object \n",
      "dtypes: float64(1), int64(8), object(6)\n",
      "memory usage: 32.0+ MB\n"
     ]
    }
   ],
   "source": [
    "df.info()"
   ]
  },
  {
   "cell_type": "markdown",
   "id": "f6de8940",
   "metadata": {
    "papermill": {
     "duration": 0.034641,
     "end_time": "2023-11-27T19:29:28.034787",
     "exception": false,
     "start_time": "2023-11-27T19:29:28.000146",
     "status": "completed"
    },
    "tags": []
   },
   "source": [
    "We have **three** different kinds of data types namely: \n",
    "* _object_\n",
    "* _integer_ \n",
    "* _float_\n",
    "\n",
    "Therefore, we need to convert all variables to the same datatype for classification."
   ]
  },
  {
   "cell_type": "markdown",
   "id": "1fdcbb80",
   "metadata": {
    "papermill": {
     "duration": 0.030646,
     "end_time": "2023-11-27T19:29:28.096676",
     "exception": false,
     "start_time": "2023-11-27T19:29:28.066030",
     "status": "completed"
    },
    "tags": []
   },
   "source": [
    "## 1.3 Summary Statistics"
   ]
  },
  {
   "cell_type": "code",
   "execution_count": 5,
   "id": "57226679",
   "metadata": {
    "execution": {
     "iopub.execute_input": "2023-11-27T19:29:28.161088Z",
     "iopub.status.busy": "2023-11-27T19:29:28.160603Z",
     "iopub.status.idle": "2023-11-27T19:29:28.302140Z",
     "shell.execute_reply": "2023-11-27T19:29:28.300781Z"
    },
    "papermill": {
     "duration": 0.177773,
     "end_time": "2023-11-27T19:29:28.305276",
     "exception": false,
     "start_time": "2023-11-27T19:29:28.127503",
     "status": "completed"
    },
    "tags": []
   },
   "outputs": [
    {
     "data": {
      "text/html": [
       "<div>\n",
       "<style scoped>\n",
       "    .dataframe tbody tr th:only-of-type {\n",
       "        vertical-align: middle;\n",
       "    }\n",
       "\n",
       "    .dataframe tbody tr th {\n",
       "        vertical-align: top;\n",
       "    }\n",
       "\n",
       "    .dataframe thead th {\n",
       "        text-align: right;\n",
       "    }\n",
       "</style>\n",
       "<table border=\"1\" class=\"dataframe\">\n",
       "  <thead>\n",
       "    <tr style=\"text-align: right;\">\n",
       "      <th></th>\n",
       "      <th>Age</th>\n",
       "      <th>Income</th>\n",
       "      <th>Credit Score</th>\n",
       "      <th>Credit History Length</th>\n",
       "      <th>Number of Existing Loans</th>\n",
       "      <th>Loan Amount</th>\n",
       "      <th>Loan Tenure</th>\n",
       "      <th>LTV Ratio</th>\n",
       "      <th>Profile Score</th>\n",
       "    </tr>\n",
       "  </thead>\n",
       "  <tbody>\n",
       "    <tr>\n",
       "      <th>count</th>\n",
       "      <td>279856.000000</td>\n",
       "      <td>279856.000000</td>\n",
       "      <td>279856.000000</td>\n",
       "      <td>279856.000000</td>\n",
       "      <td>279856.000000</td>\n",
       "      <td>279856.000000</td>\n",
       "      <td>279856.000000</td>\n",
       "      <td>279856.000000</td>\n",
       "      <td>279856.000000</td>\n",
       "    </tr>\n",
       "    <tr>\n",
       "      <th>mean</th>\n",
       "      <td>44.005217</td>\n",
       "      <td>76499.163856</td>\n",
       "      <td>582.953773</td>\n",
       "      <td>307.965146</td>\n",
       "      <td>4.701693</td>\n",
       "      <td>105795.342773</td>\n",
       "      <td>133.340654</td>\n",
       "      <td>71.643101</td>\n",
       "      <td>77.350155</td>\n",
       "    </tr>\n",
       "    <tr>\n",
       "      <th>std</th>\n",
       "      <td>15.311051</td>\n",
       "      <td>42875.575193</td>\n",
       "      <td>163.076754</td>\n",
       "      <td>175.083268</td>\n",
       "      <td>2.980351</td>\n",
       "      <td>40458.370929</td>\n",
       "      <td>96.064132</td>\n",
       "      <td>16.865785</td>\n",
       "      <td>24.509196</td>\n",
       "    </tr>\n",
       "    <tr>\n",
       "      <th>min</th>\n",
       "      <td>18.000000</td>\n",
       "      <td>9000.000000</td>\n",
       "      <td>300.000000</td>\n",
       "      <td>6.000000</td>\n",
       "      <td>0.000000</td>\n",
       "      <td>5294.000000</td>\n",
       "      <td>12.000000</td>\n",
       "      <td>40.000000</td>\n",
       "      <td>0.000000</td>\n",
       "    </tr>\n",
       "    <tr>\n",
       "      <th>25%</th>\n",
       "      <td>31.000000</td>\n",
       "      <td>42000.000000</td>\n",
       "      <td>446.000000</td>\n",
       "      <td>156.000000</td>\n",
       "      <td>2.000000</td>\n",
       "      <td>72173.000000</td>\n",
       "      <td>62.000000</td>\n",
       "      <td>58.105848</td>\n",
       "      <td>61.000000</td>\n",
       "    </tr>\n",
       "    <tr>\n",
       "      <th>50%</th>\n",
       "      <td>44.000000</td>\n",
       "      <td>68000.000000</td>\n",
       "      <td>584.000000</td>\n",
       "      <td>307.000000</td>\n",
       "      <td>5.000000</td>\n",
       "      <td>111263.000000</td>\n",
       "      <td>100.000000</td>\n",
       "      <td>72.133017</td>\n",
       "      <td>89.000000</td>\n",
       "    </tr>\n",
       "    <tr>\n",
       "      <th>75%</th>\n",
       "      <td>57.000000</td>\n",
       "      <td>104000.000000</td>\n",
       "      <td>722.000000</td>\n",
       "      <td>460.000000</td>\n",
       "      <td>7.000000</td>\n",
       "      <td>150000.000000</td>\n",
       "      <td>201.000000</td>\n",
       "      <td>86.239725</td>\n",
       "      <td>98.000000</td>\n",
       "    </tr>\n",
       "    <tr>\n",
       "      <th>max</th>\n",
       "      <td>70.000000</td>\n",
       "      <td>209000.000000</td>\n",
       "      <td>850.000000</td>\n",
       "      <td>611.000000</td>\n",
       "      <td>10.000000</td>\n",
       "      <td>150000.000000</td>\n",
       "      <td>359.000000</td>\n",
       "      <td>95.000000</td>\n",
       "      <td>100.000000</td>\n",
       "    </tr>\n",
       "  </tbody>\n",
       "</table>\n",
       "</div>"
      ],
      "text/plain": [
       "                 Age         Income   Credit Score  Credit History Length  \\\n",
       "count  279856.000000  279856.000000  279856.000000          279856.000000   \n",
       "mean       44.005217   76499.163856     582.953773             307.965146   \n",
       "std        15.311051   42875.575193     163.076754             175.083268   \n",
       "min        18.000000    9000.000000     300.000000               6.000000   \n",
       "25%        31.000000   42000.000000     446.000000             156.000000   \n",
       "50%        44.000000   68000.000000     584.000000             307.000000   \n",
       "75%        57.000000  104000.000000     722.000000             460.000000   \n",
       "max        70.000000  209000.000000     850.000000             611.000000   \n",
       "\n",
       "       Number of Existing Loans    Loan Amount    Loan Tenure      LTV Ratio  \\\n",
       "count             279856.000000  279856.000000  279856.000000  279856.000000   \n",
       "mean                   4.701693  105795.342773     133.340654      71.643101   \n",
       "std                    2.980351   40458.370929      96.064132      16.865785   \n",
       "min                    0.000000    5294.000000      12.000000      40.000000   \n",
       "25%                    2.000000   72173.000000      62.000000      58.105848   \n",
       "50%                    5.000000  111263.000000     100.000000      72.133017   \n",
       "75%                    7.000000  150000.000000     201.000000      86.239725   \n",
       "max                   10.000000  150000.000000     359.000000      95.000000   \n",
       "\n",
       "       Profile Score  \n",
       "count  279856.000000  \n",
       "mean       77.350155  \n",
       "std        24.509196  \n",
       "min         0.000000  \n",
       "25%        61.000000  \n",
       "50%        89.000000  \n",
       "75%        98.000000  \n",
       "max       100.000000  "
      ]
     },
     "execution_count": 5,
     "metadata": {},
     "output_type": "execute_result"
    }
   ],
   "source": [
    "df.describe()"
   ]
  },
  {
   "cell_type": "markdown",
   "id": "b3ee0319",
   "metadata": {
    "papermill": {
     "duration": 0.032645,
     "end_time": "2023-11-27T19:29:28.370136",
     "exception": false,
     "start_time": "2023-11-27T19:29:28.337491",
     "status": "completed"
    },
    "tags": []
   },
   "source": [
    "1. There is some **missing data** as counts are different.\n",
    "2. There is **presence of outliers** in the dataset in various columns.\n",
    "3. None of the numerical data has **normal distribution** which can be inferred by having a look at the 5 number summary given in the last 5 rows."
   ]
  },
  {
   "cell_type": "markdown",
   "id": "dd974b9a",
   "metadata": {
    "papermill": {
     "duration": 0.033983,
     "end_time": "2023-11-27T19:29:28.437993",
     "exception": false,
     "start_time": "2023-11-27T19:29:28.404010",
     "status": "completed"
    },
    "tags": []
   },
   "source": [
    "## 1.4 Missing values count."
   ]
  },
  {
   "cell_type": "code",
   "execution_count": 6,
   "id": "12254d56",
   "metadata": {
    "execution": {
     "iopub.execute_input": "2023-11-27T19:29:28.505699Z",
     "iopub.status.busy": "2023-11-27T19:29:28.505224Z",
     "iopub.status.idle": "2023-11-27T19:29:28.708317Z",
     "shell.execute_reply": "2023-11-27T19:29:28.706817Z"
    },
    "papermill": {
     "duration": 0.240668,
     "end_time": "2023-11-27T19:29:28.711820",
     "exception": false,
     "start_time": "2023-11-27T19:29:28.471152",
     "status": "completed"
    },
    "tags": []
   },
   "outputs": [
    {
     "name": "stdout",
     "output_type": "stream",
     "text": [
      "Age                             0\n",
      "Gender                          0\n",
      "Income                          0\n",
      "Credit Score                    0\n",
      "Credit History Length           0\n",
      "Number of Existing Loans        0\n",
      "Loan Amount                     0\n",
      "Loan Tenure                     0\n",
      "Existing Customer               0\n",
      "State                           0\n",
      "City                            0\n",
      "LTV Ratio                       0\n",
      "Employment Profile              0\n",
      "Profile Score                   0\n",
      "Occupation                  18272\n",
      "dtype: int64\n"
     ]
    }
   ],
   "source": [
    "nan_count = df.isna().sum()\n",
    "print(nan_count)"
   ]
  },
  {
   "cell_type": "markdown",
   "id": "24524544",
   "metadata": {
    "papermill": {
     "duration": 0.031003,
     "end_time": "2023-11-27T19:29:28.774579",
     "exception": false,
     "start_time": "2023-11-27T19:29:28.743576",
     "status": "completed"
    },
    "tags": []
   },
   "source": [
    "**Occupation** columns have _**missing values**_ which need to be handled."
   ]
  },
  {
   "cell_type": "markdown",
   "id": "1fd40f5a",
   "metadata": {
    "papermill": {
     "duration": 0.031425,
     "end_time": "2023-11-27T19:29:28.837691",
     "exception": false,
     "start_time": "2023-11-27T19:29:28.806266",
     "status": "completed"
    },
    "tags": []
   },
   "source": [
    "# 2. Exploratory Data Analysis"
   ]
  },
  {
   "cell_type": "markdown",
   "id": "42f9f565",
   "metadata": {
    "papermill": {
     "duration": 0.031506,
     "end_time": "2023-11-27T19:29:28.901886",
     "exception": false,
     "start_time": "2023-11-27T19:29:28.870380",
     "status": "completed"
    },
    "tags": []
   },
   "source": [
    "## 2.1 Visualising categorical columns"
   ]
  },
  {
   "cell_type": "markdown",
   "id": "b11e03ff",
   "metadata": {
    "papermill": {
     "duration": 0.034017,
     "end_time": "2023-11-27T19:29:28.970336",
     "exception": false,
     "start_time": "2023-11-27T19:29:28.936319",
     "status": "completed"
    },
    "tags": []
   },
   "source": [
    "### 2.1.1 Accoding to inbuilt functions."
   ]
  },
  {
   "cell_type": "markdown",
   "id": "ea13232f",
   "metadata": {
    "papermill": {
     "duration": 0.032255,
     "end_time": "2023-11-27T19:29:29.037328",
     "exception": false,
     "start_time": "2023-11-27T19:29:29.005073",
     "status": "completed"
    },
    "tags": []
   },
   "source": [
    "**Filtering** out **categorcial** columns as **given** the datatypes."
   ]
  },
  {
   "cell_type": "code",
   "execution_count": 7,
   "id": "badab22d",
   "metadata": {
    "execution": {
     "iopub.execute_input": "2023-11-27T19:29:29.107752Z",
     "iopub.status.busy": "2023-11-27T19:29:29.107218Z",
     "iopub.status.idle": "2023-11-27T19:29:29.145507Z",
     "shell.execute_reply": "2023-11-27T19:29:29.143853Z"
    },
    "papermill": {
     "duration": 0.078045,
     "end_time": "2023-11-27T19:29:29.148782",
     "exception": false,
     "start_time": "2023-11-27T19:29:29.070737",
     "status": "completed"
    },
    "tags": []
   },
   "outputs": [
    {
     "data": {
      "text/html": [
       "<div>\n",
       "<style scoped>\n",
       "    .dataframe tbody tr th:only-of-type {\n",
       "        vertical-align: middle;\n",
       "    }\n",
       "\n",
       "    .dataframe tbody tr th {\n",
       "        vertical-align: top;\n",
       "    }\n",
       "\n",
       "    .dataframe thead th {\n",
       "        text-align: right;\n",
       "    }\n",
       "</style>\n",
       "<table border=\"1\" class=\"dataframe\">\n",
       "  <thead>\n",
       "    <tr style=\"text-align: right;\">\n",
       "      <th></th>\n",
       "      <th>Gender</th>\n",
       "      <th>Existing Customer</th>\n",
       "      <th>State</th>\n",
       "      <th>City</th>\n",
       "      <th>Employment Profile</th>\n",
       "      <th>Occupation</th>\n",
       "    </tr>\n",
       "  </thead>\n",
       "  <tbody>\n",
       "    <tr>\n",
       "      <th>0</th>\n",
       "      <td>Male</td>\n",
       "      <td>No</td>\n",
       "      <td>Karnataka</td>\n",
       "      <td>Mysuru</td>\n",
       "      <td>Salaried</td>\n",
       "      <td>Doctor</td>\n",
       "    </tr>\n",
       "    <tr>\n",
       "      <th>1</th>\n",
       "      <td>Male</td>\n",
       "      <td>No</td>\n",
       "      <td>Karnataka</td>\n",
       "      <td>Bengaluru</td>\n",
       "      <td>Salaried</td>\n",
       "      <td>Software Engineer</td>\n",
       "    </tr>\n",
       "    <tr>\n",
       "      <th>2</th>\n",
       "      <td>Other</td>\n",
       "      <td>Yes</td>\n",
       "      <td>Uttar Pradesh</td>\n",
       "      <td>Kanpur</td>\n",
       "      <td>Salaried</td>\n",
       "      <td>Banker</td>\n",
       "    </tr>\n",
       "    <tr>\n",
       "      <th>3</th>\n",
       "      <td>Female</td>\n",
       "      <td>Yes</td>\n",
       "      <td>Karnataka</td>\n",
       "      <td>Bengaluru</td>\n",
       "      <td>Self-Employed</td>\n",
       "      <td>Contractor</td>\n",
       "    </tr>\n",
       "    <tr>\n",
       "      <th>4</th>\n",
       "      <td>Male</td>\n",
       "      <td>No</td>\n",
       "      <td>Karnataka</td>\n",
       "      <td>Mysuru</td>\n",
       "      <td>Salaried</td>\n",
       "      <td>Teacher</td>\n",
       "    </tr>\n",
       "  </tbody>\n",
       "</table>\n",
       "</div>"
      ],
      "text/plain": [
       "   Gender Existing Customer          State       City Employment Profile  \\\n",
       "0    Male                No      Karnataka     Mysuru           Salaried   \n",
       "1    Male                No      Karnataka  Bengaluru           Salaried   \n",
       "2   Other               Yes  Uttar Pradesh     Kanpur           Salaried   \n",
       "3  Female               Yes      Karnataka  Bengaluru      Self-Employed   \n",
       "4    Male                No      Karnataka     Mysuru           Salaried   \n",
       "\n",
       "          Occupation  \n",
       "0             Doctor  \n",
       "1  Software Engineer  \n",
       "2             Banker  \n",
       "3         Contractor  \n",
       "4            Teacher  "
      ]
     },
     "execution_count": 7,
     "metadata": {},
     "output_type": "execute_result"
    }
   ],
   "source": [
    "cat_cols = make_column_selector(dtype_include=object) (df)\n",
    "df[cat_cols].head()"
   ]
  },
  {
   "cell_type": "markdown",
   "id": "b7ead862",
   "metadata": {
    "papermill": {
     "duration": 0.031383,
     "end_time": "2023-11-27T19:29:29.212638",
     "exception": false,
     "start_time": "2023-11-27T19:29:29.181255",
     "status": "completed"
    },
    "tags": []
   },
   "source": [
    "#### 2.1.1.1 Gender"
   ]
  },
  {
   "cell_type": "code",
   "execution_count": 8,
   "id": "024de5d3",
   "metadata": {
    "execution": {
     "iopub.execute_input": "2023-11-27T19:29:29.277185Z",
     "iopub.status.busy": "2023-11-27T19:29:29.276733Z",
     "iopub.status.idle": "2023-11-27T19:29:29.485058Z",
     "shell.execute_reply": "2023-11-27T19:29:29.483120Z"
    },
    "papermill": {
     "duration": 0.25216,
     "end_time": "2023-11-27T19:29:29.495830",
     "exception": false,
     "start_time": "2023-11-27T19:29:29.243670",
     "status": "completed"
    },
    "tags": []
   },
   "outputs": [
    {
     "data": {
      "image/png": "[encoded data removed]",
      "text/plain": [
       "<Figure size 720x432 with 1 Axes>"
      ]
     },
     "metadata": {},
     "output_type": "display_data"
    }
   ],
   "source": [
    "plt.figure(figsize=(10,6))\n",
    "df_con=pd.DataFrame(data=df[\"Gender\"].value_counts())\n",
    "df_con=df_con.reset_index()\n",
    "plt.pie(df_con[\"Gender\"], labels=df_con[\"index\"],explode=[0.1,0.0,0.0],autopct='%1.0f%%')\n",
    "plt.show()"
   ]
  },
  {
   "cell_type": "markdown",
   "id": "b8fe60af",
   "metadata": {
    "papermill": {
     "duration": 0.035457,
     "end_time": "2023-11-27T19:29:29.598352",
     "exception": false,
     "start_time": "2023-11-27T19:29:29.562895",
     "status": "completed"
    },
    "tags": []
   },
   "source": [
    "**\"Other\"** does **not** have **significant** values or contribution ot the dataset.\n",
    ">There are equal amounts of female and male applicants for loan approval."
   ]
  },
  {
   "cell_type": "markdown",
   "id": "822c80dc",
   "metadata": {
    "papermill": {
     "duration": 0.032441,
     "end_time": "2023-11-27T19:29:29.663571",
     "exception": false,
     "start_time": "2023-11-27T19:29:29.631130",
     "status": "completed"
    },
    "tags": []
   },
   "source": [
    "#### 2.1.1.2 Existing Customer"
   ]
  },
  {
   "cell_type": "code",
   "execution_count": 9,
   "id": "c2c1f637",
   "metadata": {
    "execution": {
     "iopub.execute_input": "2023-11-27T19:29:29.735437Z",
     "iopub.status.busy": "2023-11-27T19:29:29.734978Z",
     "iopub.status.idle": "2023-11-27T19:29:29.896227Z",
     "shell.execute_reply": "2023-11-27T19:29:29.894408Z"
    },
    "papermill": {
     "duration": 0.204323,
     "end_time": "2023-11-27T19:29:29.901924",
     "exception": false,
     "start_time": "2023-11-27T19:29:29.697601",
     "status": "completed"
    },
    "tags": []
   },
   "outputs": [
    {
     "data": {
      "image/png": "[encoded data removed]",
      "text/plain": [
       "<Figure size 720x432 with 1 Axes>"
      ]
     },
     "metadata": {},
     "output_type": "display_data"
    }
   ],
   "source": [
    "plt.figure(figsize=(10,6))\n",
    "df_con=pd.DataFrame(data=df[\"Existing Customer\"].value_counts())\n",
    "df_con=df_con.reset_index()\n",
    "plt.pie(df_con[\"Existing Customer\"], labels=df_con[\"index\"],explode=[0.1,0.0],autopct='%1.0f%%')\n",
    "plt.show()"
   ]
  },
  {
   "cell_type": "markdown",
   "id": "09cb2281",
   "metadata": {
    "papermill": {
     "duration": 0.04093,
     "end_time": "2023-11-27T19:29:30.011921",
     "exception": false,
     "start_time": "2023-11-27T19:29:29.970991",
     "status": "completed"
    },
    "tags": []
   },
   "source": [
    "**Most** of the applicans are **not** an existing customer.\n",
    "> It reflects that people who are not an existing customer of the bank still have high chances of loan being approved which is a plus point for the society as it benifits everyone."
   ]
  },
  {
   "cell_type": "markdown",
   "id": "ea8a1d41",
   "metadata": {
    "papermill": {
     "duration": 0.033194,
     "end_time": "2023-11-27T19:29:30.082268",
     "exception": false,
     "start_time": "2023-11-27T19:29:30.049074",
     "status": "completed"
    },
    "tags": []
   },
   "source": [
    "#### 2.1.1.3 State"
   ]
  },
  {
   "cell_type": "code",
   "execution_count": 10,
   "id": "0880ca1c",
   "metadata": {
    "execution": {
     "iopub.execute_input": "2023-11-27T19:29:30.152447Z",
     "iopub.status.busy": "2023-11-27T19:29:30.151459Z",
     "iopub.status.idle": "2023-11-27T19:29:30.809429Z",
     "shell.execute_reply": "2023-11-27T19:29:30.807679Z"
    },
    "papermill": {
     "duration": 0.695979,
     "end_time": "2023-11-27T19:29:30.812476",
     "exception": false,
     "start_time": "2023-11-27T19:29:30.116497",
     "status": "completed"
    },
    "tags": []
   },
   "outputs": [
    {
     "data": {
      "text/plain": [
       "<AxesSubplot:xlabel='State', ylabel='Count'>"
      ]
     },
     "execution_count": 10,
     "metadata": {},
     "output_type": "execute_result"
    },
    {
     "data": {
      "image/png": "[encoded data removed]",
      "text/plain": [
       "<Figure size 1080x432 with 1 Axes>"
      ]
     },
     "metadata": {
      "needs_background": "light"
     },
     "output_type": "display_data"
    }
   ],
   "source": [
    "plt.figure(figsize=(15,6))\n",
    "sns.histplot(data=df[\"State\"], x=df[\"State\"], element=\"bars\", color=\"#1dc2a6\")"
   ]
  },
  {
   "cell_type": "markdown",
   "id": "95bfd643",
   "metadata": {
    "papermill": {
     "duration": 0.031892,
     "end_time": "2023-11-27T19:29:30.876882",
     "exception": false,
     "start_time": "2023-11-27T19:29:30.844990",
     "status": "completed"
    },
    "tags": []
   },
   "source": [
    "**Mostly** all states have **equal** applicants.\n",
    "> The bank provides loan all over the country."
   ]
  },
  {
   "cell_type": "markdown",
   "id": "fdd775f3",
   "metadata": {
    "papermill": {
     "duration": 0.032017,
     "end_time": "2023-11-27T19:29:30.941383",
     "exception": false,
     "start_time": "2023-11-27T19:29:30.909366",
     "status": "completed"
    },
    "tags": []
   },
   "source": [
    "#### 2.1.1.4 City"
   ]
  },
  {
   "cell_type": "code",
   "execution_count": 11,
   "id": "809dfa56",
   "metadata": {
    "execution": {
     "iopub.execute_input": "2023-11-27T19:29:31.010370Z",
     "iopub.status.busy": "2023-11-27T19:29:31.009941Z",
     "iopub.status.idle": "2023-11-27T19:29:31.842106Z",
     "shell.execute_reply": "2023-11-27T19:29:31.840568Z"
    },
    "papermill": {
     "duration": 0.871392,
     "end_time": "2023-11-27T19:29:31.845610",
     "exception": false,
     "start_time": "2023-11-27T19:29:30.974218",
     "status": "completed"
    },
    "tags": []
   },
   "outputs": [
    {
     "data": {
      "text/plain": [
       "([0,\n",
       "  1,\n",
       "  2,\n",
       "  3,\n",
       "  4,\n",
       "  5,\n",
       "  6,\n",
       "  7,\n",
       "  8,\n",
       "  9,\n",
       "  10,\n",
       "  11,\n",
       "  12,\n",
       "  13,\n",
       "  14,\n",
       "  15,\n",
       "  16,\n",
       "  17,\n",
       "  18,\n",
       "  19,\n",
       "  20,\n",
       "  21,\n",
       "  22],\n",
       " [Text(0, 0, ''),\n",
       "  Text(0, 0, ''),\n",
       "  Text(0, 0, ''),\n",
       "  Text(0, 0, ''),\n",
       "  Text(0, 0, ''),\n",
       "  Text(0, 0, ''),\n",
       "  Text(0, 0, ''),\n",
       "  Text(0, 0, ''),\n",
       "  Text(0, 0, ''),\n",
       "  Text(0, 0, ''),\n",
       "  Text(0, 0, ''),\n",
       "  Text(0, 0, ''),\n",
       "  Text(0, 0, ''),\n",
       "  Text(0, 0, ''),\n",
       "  Text(0, 0, ''),\n",
       "  Text(0, 0, ''),\n",
       "  Text(0, 0, ''),\n",
       "  Text(0, 0, ''),\n",
       "  Text(0, 0, ''),\n",
       "  Text(0, 0, ''),\n",
       "  Text(0, 0, ''),\n",
       "  Text(0, 0, ''),\n",
       "  Text(0, 0, '')])"
      ]
     },
     "execution_count": 11,
     "metadata": {},
     "output_type": "execute_result"
    },
    {
     "data": {
      "image/png": "[encoded data removed]",
      "text/plain": [
       "<Figure size 1080x432 with 1 Axes>"
      ]
     },
     "metadata": {
      "needs_background": "light"
     },
     "output_type": "display_data"
    }
   ],
   "source": [
    "plt.figure(figsize=(15,6))\n",
    "sns.histplot(data=df[\"City\"], x=df[\"City\"], element=\"bars\", color=\"#1dc2a6\")\n",
    "plt.xticks(rotation = 90)"
   ]
  },
  {
   "cell_type": "markdown",
   "id": "5c865b0a",
   "metadata": {
    "papermill": {
     "duration": 0.043707,
     "end_time": "2023-11-27T19:29:31.924820",
     "exception": false,
     "start_time": "2023-11-27T19:29:31.881113",
     "status": "completed"
    },
    "tags": []
   },
   "source": [
    "**Kolkata,Hyderabad & New Delhi** have **maximum** applicants whereas **Pune** has **minimum** applicants.\n",
    "> Loan providing on the basis of City has a different outcome as compared to State."
   ]
  },
  {
   "cell_type": "markdown",
   "id": "6de7df7d",
   "metadata": {
    "papermill": {
     "duration": 0.034907,
     "end_time": "2023-11-27T19:29:31.997174",
     "exception": false,
     "start_time": "2023-11-27T19:29:31.962267",
     "status": "completed"
    },
    "tags": []
   },
   "source": [
    "#### 2.1.1.5 Employment Profile"
   ]
  },
  {
   "cell_type": "code",
   "execution_count": 12,
   "id": "59d71c93",
   "metadata": {
    "execution": {
     "iopub.execute_input": "2023-11-27T19:29:32.071076Z",
     "iopub.status.busy": "2023-11-27T19:29:32.069484Z",
     "iopub.status.idle": "2023-11-27T19:29:32.736368Z",
     "shell.execute_reply": "2023-11-27T19:29:32.734765Z"
    },
    "papermill": {
     "duration": 0.705655,
     "end_time": "2023-11-27T19:29:32.739639",
     "exception": false,
     "start_time": "2023-11-27T19:29:32.033984",
     "status": "completed"
    },
    "tags": []
   },
   "outputs": [
    {
     "data": {
      "text/plain": [
       "([0, 1, 2, 3, 4],\n",
       " [Text(0, 0, ''),\n",
       "  Text(0, 0, ''),\n",
       "  Text(0, 0, ''),\n",
       "  Text(0, 0, ''),\n",
       "  Text(0, 0, '')])"
      ]
     },
     "execution_count": 12,
     "metadata": {},
     "output_type": "execute_result"
    },
    {
     "data": {
      "image/png": "[encoded data removed]",
      "text/plain": [
       "<Figure size 1080x432 with 1 Axes>"
      ]
     },
     "metadata": {
      "needs_background": "light"
     },
     "output_type": "display_data"
    }
   ],
   "source": [
    "plt.figure(figsize=(15,6))\n",
    "sns.histplot(data=df[\"Employment Profile\"], x=df[\"Employment Profile\"], element=\"bars\", color=\"#1dc2a6\")\n",
    "plt.xticks(rotation = 90)"
   ]
  },
  {
   "cell_type": "markdown",
   "id": "1a4c931d",
   "metadata": {
    "papermill": {
     "duration": 0.035799,
     "end_time": "2023-11-27T19:29:32.810112",
     "exception": false,
     "start_time": "2023-11-27T19:29:32.774313",
     "status": "completed"
    },
    "tags": []
   },
   "source": [
    "**Salaried** people are the **maximum** applicants & **Students & Unemployed** are **minimum**.\n",
    "> Salaried people apply more because they have a more stable income source to repay the loan than others whereas unemployed people or students dont have any so the refrain from even applying as most of them don't even know that they might get loans on some basis ."
   ]
  },
  {
   "cell_type": "markdown",
   "id": "14bc4470",
   "metadata": {
    "papermill": {
     "duration": 0.034459,
     "end_time": "2023-11-27T19:29:32.880606",
     "exception": false,
     "start_time": "2023-11-27T19:29:32.846147",
     "status": "completed"
    },
    "tags": []
   },
   "source": [
    "#### 2.1.1.6 Occupation "
   ]
  },
  {
   "cell_type": "code",
   "execution_count": 13,
   "id": "15b2f849",
   "metadata": {
    "execution": {
     "iopub.execute_input": "2023-11-27T19:29:32.956141Z",
     "iopub.status.busy": "2023-11-27T19:29:32.955137Z",
     "iopub.status.idle": "2023-11-27T19:29:33.693454Z",
     "shell.execute_reply": "2023-11-27T19:29:33.692490Z"
    },
    "papermill": {
     "duration": 0.779747,
     "end_time": "2023-11-27T19:29:33.696123",
     "exception": false,
     "start_time": "2023-11-27T19:29:32.916376",
     "status": "completed"
    },
    "tags": []
   },
   "outputs": [
    {
     "data": {
      "text/plain": [
       "([0, 1, 2, 3, 4, 5, 6, 7, 8, 9, 10, 11, 12, 13],\n",
       " [Text(0, 0, ''),\n",
       "  Text(0, 0, ''),\n",
       "  Text(0, 0, ''),\n",
       "  Text(0, 0, ''),\n",
       "  Text(0, 0, ''),\n",
       "  Text(0, 0, ''),\n",
       "  Text(0, 0, ''),\n",
       "  Text(0, 0, ''),\n",
       "  Text(0, 0, ''),\n",
       "  Text(0, 0, ''),\n",
       "  Text(0, 0, ''),\n",
       "  Text(0, 0, ''),\n",
       "  Text(0, 0, ''),\n",
       "  Text(0, 0, '')])"
      ]
     },
     "execution_count": 13,
     "metadata": {},
     "output_type": "execute_result"
    },
    {
     "data": {
      "image/png": "[encoded data removed]",
      "text/plain": [
       "<Figure size 1080x432 with 1 Axes>"
      ]
     },
     "metadata": {
      "needs_background": "light"
     },
     "output_type": "display_data"
    }
   ],
   "source": [
    "plt.figure(figsize=(15,6))\n",
    "sns.histplot(data=df[\"Occupation\"], x=df[\"Occupation\"], element=\"bars\", color=\"#1dc2a6\")\n",
    "plt.xticks(rotation = 90)"
   ]
  },
  {
   "cell_type": "markdown",
   "id": "a686ba86",
   "metadata": {
    "papermill": {
     "duration": 0.041485,
     "end_time": "2023-11-27T19:29:33.774442",
     "exception": false,
     "start_time": "2023-11-27T19:29:33.732957",
     "status": "completed"
    },
    "tags": []
   },
   "source": [
    "1. **Maximum** people lie in the occupation type **Banker**.\n",
    "2. The next most **prominent** occupation is of **Civil Servant,Teacher,Software Engineer & Doctors**.\n",
    "3. Least if of **writer,photographer,independent consultant & graphic designer**.\n",
    "> Mostly **high salaried** people apply for loan and **freelancers** refrain from it."
   ]
  },
  {
   "cell_type": "markdown",
   "id": "7d513aca",
   "metadata": {
    "papermill": {
     "duration": 0.041008,
     "end_time": "2023-11-27T19:29:33.862892",
     "exception": false,
     "start_time": "2023-11-27T19:29:33.821884",
     "status": "completed"
    },
    "tags": []
   },
   "source": [
    "### 2.1.3 Scope of being Categoircal"
   ]
  },
  {
   "cell_type": "markdown",
   "id": "eff8e99d",
   "metadata": {
    "papermill": {
     "duration": 0.035773,
     "end_time": "2023-11-27T19:29:33.934592",
     "exception": false,
     "start_time": "2023-11-27T19:29:33.898819",
     "status": "completed"
    },
    "tags": []
   },
   "source": [
    "#### 2.1.3.1 Loan Amount"
   ]
  },
  {
   "cell_type": "code",
   "execution_count": 14,
   "id": "3fa6ed40",
   "metadata": {
    "execution": {
     "iopub.execute_input": "2023-11-27T19:29:34.010117Z",
     "iopub.status.busy": "2023-11-27T19:29:34.009340Z",
     "iopub.status.idle": "2023-11-27T19:29:34.446300Z",
     "shell.execute_reply": "2023-11-27T19:29:34.444611Z"
    },
    "papermill": {
     "duration": 0.479679,
     "end_time": "2023-11-27T19:29:34.449549",
     "exception": false,
     "start_time": "2023-11-27T19:29:33.969870",
     "status": "completed"
    },
    "tags": []
   },
   "outputs": [
    {
     "data": {
      "text/plain": [
       "<AxesSubplot:xlabel='Loan Amount', ylabel='Count'>"
      ]
     },
     "execution_count": 14,
     "metadata": {},
     "output_type": "execute_result"
    },
    {
     "data": {
      "image/png": "[encoded data removed]",
      "text/plain": [
       "<Figure size 1080x432 with 1 Axes>"
      ]
     },
     "metadata": {
      "needs_background": "light"
     },
     "output_type": "display_data"
    }
   ],
   "source": [
    "plt.figure(figsize=(15,6))\n",
    "sns.histplot(data=df[\"Loan Amount\"], x=df[\"Loan Amount\"], element=\"bars\", color=\"#1dc2a6\")"
   ]
  },
  {
   "cell_type": "markdown",
   "id": "43418a50",
   "metadata": {
    "papermill": {
     "duration": 0.03448,
     "end_time": "2023-11-27T19:29:34.519200",
     "exception": false,
     "start_time": "2023-11-27T19:29:34.484720",
     "status": "completed"
    },
    "tags": []
   },
   "source": [
    "1. This can be divided into **two catgeories**:\n",
    "    * Either people have **<6000**.\n",
    "    * **Or more** than that."
   ]
  },
  {
   "cell_type": "markdown",
   "id": "91998b71",
   "metadata": {
    "papermill": {
     "duration": 0.034214,
     "end_time": "2023-11-27T19:29:34.588288",
     "exception": false,
     "start_time": "2023-11-27T19:29:34.554074",
     "status": "completed"
    },
    "tags": []
   },
   "source": [
    "#### 2.1.3.2 Profile Score"
   ]
  },
  {
   "cell_type": "code",
   "execution_count": 15,
   "id": "984593ee",
   "metadata": {
    "execution": {
     "iopub.execute_input": "2023-11-27T19:29:34.659534Z",
     "iopub.status.busy": "2023-11-27T19:29:34.659071Z",
     "iopub.status.idle": "2023-11-27T19:29:35.116040Z",
     "shell.execute_reply": "2023-11-27T19:29:35.115058Z"
    },
    "papermill": {
     "duration": 0.496582,
     "end_time": "2023-11-27T19:29:35.119459",
     "exception": false,
     "start_time": "2023-11-27T19:29:34.622877",
     "status": "completed"
    },
    "tags": []
   },
   "outputs": [
    {
     "data": {
      "text/plain": [
       "<AxesSubplot:xlabel='Profile Score', ylabel='Count'>"
      ]
     },
     "execution_count": 15,
     "metadata": {},
     "output_type": "execute_result"
    },
    {
     "data": {
      "image/png": "[encoded data removed]",
      "text/plain": [
       "<Figure size 1080x432 with 1 Axes>"
      ]
     },
     "metadata": {
      "needs_background": "light"
     },
     "output_type": "display_data"
    }
   ],
   "source": [
    "plt.figure(figsize=(15,6))\n",
    "sns.histplot(data=df[\"Profile Score\"], x=df[\"Profile Score\"], element=\"bars\", color=\"#1dc2a6\")"
   ]
  },
  {
   "cell_type": "markdown",
   "id": "8616c350",
   "metadata": {
    "papermill": {
     "duration": 0.036208,
     "end_time": "2023-11-27T19:29:35.193264",
     "exception": false,
     "start_time": "2023-11-27T19:29:35.157056",
     "status": "completed"
    },
    "tags": []
   },
   "source": [
    "1. This can be divided into **two catgeories**:\n",
    "    * Either people have **less than 90**.\n",
    "    * **Or more** than that.\n",
    "\n",
    "As 2 is the mode of the data."
   ]
  },
  {
   "cell_type": "markdown",
   "id": "9bf12800",
   "metadata": {
    "papermill": {
     "duration": 0.036386,
     "end_time": "2023-11-27T19:29:35.266473",
     "exception": false,
     "start_time": "2023-11-27T19:29:35.230087",
     "status": "completed"
    },
    "tags": []
   },
   "source": [
    "#### 2.1.3.3 Loan Tenure"
   ]
  },
  {
   "cell_type": "code",
   "execution_count": 16,
   "id": "5e994d9c",
   "metadata": {
    "execution": {
     "iopub.execute_input": "2023-11-27T19:29:35.343259Z",
     "iopub.status.busy": "2023-11-27T19:29:35.342483Z",
     "iopub.status.idle": "2023-11-27T19:29:35.807828Z",
     "shell.execute_reply": "2023-11-27T19:29:35.806339Z"
    },
    "papermill": {
     "duration": 0.507714,
     "end_time": "2023-11-27T19:29:35.810937",
     "exception": false,
     "start_time": "2023-11-27T19:29:35.303223",
     "status": "completed"
    },
    "tags": []
   },
   "outputs": [
    {
     "data": {
      "text/plain": [
       "<AxesSubplot:xlabel='Loan Tenure', ylabel='Count'>"
      ]
     },
     "execution_count": 16,
     "metadata": {},
     "output_type": "execute_result"
    },
    {
     "data": {
      "image/png": "[encoded data removed]",
      "text/plain": [
       "<Figure size 1080x432 with 1 Axes>"
      ]
     },
     "metadata": {
      "needs_background": "light"
     },
     "output_type": "display_data"
    }
   ],
   "source": [
    "plt.figure(figsize=(15,6))\n",
    "sns.histplot(data=df[\"Loan Tenure\"], x=df[\"Loan Tenure\"], element=\"bars\", color=\"#1dc2a6\")"
   ]
  },
  {
   "cell_type": "markdown",
   "id": "4d5f3561",
   "metadata": {
    "papermill": {
     "duration": 0.036802,
     "end_time": "2023-11-27T19:29:35.885495",
     "exception": false,
     "start_time": "2023-11-27T19:29:35.848693",
     "status": "completed"
    },
    "tags": []
   },
   "source": [
    "1. This can be divided into **two catgeories**:\n",
    "    * Either people have **<=125 months**.\n",
    "    * **Or more** than that."
   ]
  },
  {
   "cell_type": "markdown",
   "id": "8669af0b",
   "metadata": {
    "papermill": {
     "duration": 0.03633,
     "end_time": "2023-11-27T19:29:35.959588",
     "exception": false,
     "start_time": "2023-11-27T19:29:35.923258",
     "status": "completed"
    },
    "tags": []
   },
   "source": [
    "#### 2.1.3.4 Credit Score"
   ]
  },
  {
   "cell_type": "code",
   "execution_count": 17,
   "id": "bd411f89",
   "metadata": {
    "execution": {
     "iopub.execute_input": "2023-11-27T19:29:36.038036Z",
     "iopub.status.busy": "2023-11-27T19:29:36.037209Z",
     "iopub.status.idle": "2023-11-27T19:29:36.478897Z",
     "shell.execute_reply": "2023-11-27T19:29:36.477628Z"
    },
    "papermill": {
     "duration": 0.485121,
     "end_time": "2023-11-27T19:29:36.481648",
     "exception": false,
     "start_time": "2023-11-27T19:29:35.996527",
     "status": "completed"
    },
    "tags": []
   },
   "outputs": [
    {
     "data": {
      "text/plain": [
       "<AxesSubplot:xlabel='Credit Score', ylabel='Count'>"
      ]
     },
     "execution_count": 17,
     "metadata": {},
     "output_type": "execute_result"
    },
    {
     "data": {
      "image/png": "[encoded data removed]",
      "text/plain": [
       "<Figure size 1080x432 with 1 Axes>"
      ]
     },
     "metadata": {
      "needs_background": "light"
     },
     "output_type": "display_data"
    }
   ],
   "source": [
    "plt.figure(figsize=(15,6))\n",
    "sns.histplot(data=df[\"Credit Score\"], x=df[\"Credit Score\"], element=\"bars\", color=\"#1dc2a6\")"
   ]
  },
  {
   "cell_type": "markdown",
   "id": "a2b23fe8",
   "metadata": {
    "papermill": {
     "duration": 0.035904,
     "end_time": "2023-11-27T19:29:36.554239",
     "exception": false,
     "start_time": "2023-11-27T19:29:36.518335",
     "status": "completed"
    },
    "tags": []
   },
   "source": [
    "1. This will be divided into **2 catgeories**:\n",
    "    * Approved:**>=650**\n",
    "    * Unapproved:**<650**\n"
   ]
  },
  {
   "cell_type": "markdown",
   "id": "a3e20801",
   "metadata": {
    "papermill": {
     "duration": 0.035516,
     "end_time": "2023-11-27T19:29:36.626175",
     "exception": false,
     "start_time": "2023-11-27T19:29:36.590659",
     "status": "completed"
    },
    "tags": []
   },
   "source": [
    "### 2.2.4 LTV Ratio"
   ]
  },
  {
   "cell_type": "code",
   "execution_count": 18,
   "id": "ed4bd7e0",
   "metadata": {
    "execution": {
     "iopub.execute_input": "2023-11-27T19:29:36.701188Z",
     "iopub.status.busy": "2023-11-27T19:29:36.700508Z",
     "iopub.status.idle": "2023-11-27T19:29:37.280436Z",
     "shell.execute_reply": "2023-11-27T19:29:37.278758Z"
    },
    "papermill": {
     "duration": 0.621051,
     "end_time": "2023-11-27T19:29:37.283376",
     "exception": false,
     "start_time": "2023-11-27T19:29:36.662325",
     "status": "completed"
    },
    "tags": []
   },
   "outputs": [
    {
     "data": {
      "text/plain": [
       "<AxesSubplot:xlabel='LTV Ratio', ylabel='Count'>"
      ]
     },
     "execution_count": 18,
     "metadata": {},
     "output_type": "execute_result"
    },
    {
     "data": {
      "image/png": "[encoded data removed]",
      "text/plain": [
       "<Figure size 1080x432 with 1 Axes>"
      ]
     },
     "metadata": {
      "needs_background": "light"
     },
     "output_type": "display_data"
    }
   ],
   "source": [
    "plt.figure(figsize=(15,6))\n",
    "sns.histplot(data=df[\"LTV Ratio\"], x=df[\"LTV Ratio\"], element=\"bars\", color=\"#1dc2a6\")"
   ]
  },
  {
   "cell_type": "markdown",
   "id": "87802066",
   "metadata": {
    "papermill": {
     "duration": 0.03795,
     "end_time": "2023-11-27T19:29:37.358087",
     "exception": false,
     "start_time": "2023-11-27T19:29:37.320137",
     "status": "completed"
    },
    "tags": []
   },
   "source": [
    "1. This can be divided into **3 catgeories**:\n",
    "    * **less than 50**\n",
    "    * **between 50-85**\n",
    "    * **more than 85**"
   ]
  },
  {
   "cell_type": "markdown",
   "id": "c5fdbcde",
   "metadata": {
    "papermill": {
     "duration": 0.038014,
     "end_time": "2023-11-27T19:29:37.435630",
     "exception": false,
     "start_time": "2023-11-27T19:29:37.397616",
     "status": "completed"
    },
    "tags": []
   },
   "source": [
    "## 2.2 Visualising Numerical Columns"
   ]
  },
  {
   "cell_type": "markdown",
   "id": "1b90f917",
   "metadata": {
    "papermill": {
     "duration": 0.037682,
     "end_time": "2023-11-27T19:29:37.510559",
     "exception": false,
     "start_time": "2023-11-27T19:29:37.472877",
     "status": "completed"
    },
    "tags": []
   },
   "source": [
    "### 2.2.1 Age"
   ]
  },
  {
   "cell_type": "code",
   "execution_count": 19,
   "id": "a5e6845a",
   "metadata": {
    "execution": {
     "iopub.execute_input": "2023-11-27T19:29:37.587866Z",
     "iopub.status.busy": "2023-11-27T19:29:37.587335Z",
     "iopub.status.idle": "2023-11-27T19:29:38.957917Z",
     "shell.execute_reply": "2023-11-27T19:29:38.956255Z"
    },
    "papermill": {
     "duration": 1.413222,
     "end_time": "2023-11-27T19:29:38.961225",
     "exception": false,
     "start_time": "2023-11-27T19:29:37.548003",
     "status": "completed"
    },
    "tags": []
   },
   "outputs": [
    {
     "data": {
      "text/plain": [
       "<AxesSubplot:xlabel='Age', ylabel='Count'>"
      ]
     },
     "execution_count": 19,
     "metadata": {},
     "output_type": "execute_result"
    },
    {
     "data": {
      "image/png": "[encoded data removed]",
      "text/plain": [
       "<Figure size 1080x432 with 1 Axes>"
      ]
     },
     "metadata": {
      "needs_background": "light"
     },
     "output_type": "display_data"
    }
   ],
   "source": [
    "plt.figure(figsize=(15,6))\n",
    "sns.histplot(data=df[\"Age\"], x=df[\"Age\"], element=\"bars\",kde=True, color=\"#1dc2a6\")"
   ]
  },
  {
   "cell_type": "markdown",
   "id": "229662d0",
   "metadata": {
    "papermill": {
     "duration": 0.041427,
     "end_time": "2023-11-27T19:29:39.041174",
     "exception": false,
     "start_time": "2023-11-27T19:29:38.999747",
     "status": "completed"
    },
    "tags": []
   },
   "source": [
    "People of **all** age groups have applied for loan."
   ]
  },
  {
   "cell_type": "markdown",
   "id": "26ec8d82",
   "metadata": {
    "papermill": {
     "duration": 0.03795,
     "end_time": "2023-11-27T19:29:39.117170",
     "exception": false,
     "start_time": "2023-11-27T19:29:39.079220",
     "status": "completed"
    },
    "tags": []
   },
   "source": [
    "### 2.2.2 No. of Existing Loans"
   ]
  },
  {
   "cell_type": "code",
   "execution_count": 20,
   "id": "7b5158b9",
   "metadata": {
    "execution": {
     "iopub.execute_input": "2023-11-27T19:29:39.197939Z",
     "iopub.status.busy": "2023-11-27T19:29:39.196893Z",
     "iopub.status.idle": "2023-11-27T19:29:39.626417Z",
     "shell.execute_reply": "2023-11-27T19:29:39.625151Z"
    },
    "papermill": {
     "duration": 0.472543,
     "end_time": "2023-11-27T19:29:39.629104",
     "exception": false,
     "start_time": "2023-11-27T19:29:39.156561",
     "status": "completed"
    },
    "tags": []
   },
   "outputs": [
    {
     "data": {
      "text/plain": [
       "<AxesSubplot:xlabel='Number of Existing Loans', ylabel='Count'>"
      ]
     },
     "execution_count": 20,
     "metadata": {},
     "output_type": "execute_result"
    },
    {
     "data": {
      "image/png": "[encoded data removed]",
      "text/plain": [
       "<Figure size 1080x432 with 1 Axes>"
      ]
     },
     "metadata": {
      "needs_background": "light"
     },
     "output_type": "display_data"
    }
   ],
   "source": [
    "plt.figure(figsize=(15,6))\n",
    "sns.histplot(data=df[\"Number of Existing Loans\"], x=df[\"Number of Existing Loans\"], element=\"bars\", color=\"#1dc2a6\")"
   ]
  },
  {
   "cell_type": "markdown",
   "id": "660934e7",
   "metadata": {
    "papermill": {
     "duration": 0.036779,
     "end_time": "2023-11-27T19:29:39.703224",
     "exception": false,
     "start_time": "2023-11-27T19:29:39.666445",
     "status": "completed"
    },
    "tags": []
   },
   "source": [
    "Only a **few** people people have **more than 8** existing loans."
   ]
  },
  {
   "cell_type": "markdown",
   "id": "1f8d0cd7",
   "metadata": {
    "papermill": {
     "duration": 0.039176,
     "end_time": "2023-11-27T19:29:39.779635",
     "exception": false,
     "start_time": "2023-11-27T19:29:39.740459",
     "status": "completed"
    },
    "tags": []
   },
   "source": [
    "### 2.2.3 Income"
   ]
  },
  {
   "cell_type": "code",
   "execution_count": 21,
   "id": "6e65783f",
   "metadata": {
    "execution": {
     "iopub.execute_input": "2023-11-27T19:29:39.856084Z",
     "iopub.status.busy": "2023-11-27T19:29:39.855594Z",
     "iopub.status.idle": "2023-11-27T19:29:40.397856Z",
     "shell.execute_reply": "2023-11-27T19:29:40.396257Z"
    },
    "papermill": {
     "duration": 0.58438,
     "end_time": "2023-11-27T19:29:40.401149",
     "exception": false,
     "start_time": "2023-11-27T19:29:39.816769",
     "status": "completed"
    },
    "tags": []
   },
   "outputs": [
    {
     "data": {
      "text/plain": [
       "<AxesSubplot:xlabel='Income', ylabel='Count'>"
      ]
     },
     "execution_count": 21,
     "metadata": {},
     "output_type": "execute_result"
    },
    {
     "data": {
      "image/png": "[encoded data removed]",
      "text/plain": [
       "<Figure size 1080x432 with 1 Axes>"
      ]
     },
     "metadata": {
      "needs_background": "light"
     },
     "output_type": "display_data"
    }
   ],
   "source": [
    "plt.figure(figsize=(15,6))\n",
    "sns.histplot(data=df[\"Income\"], x=df[\"Income\"], element=\"bars\", color=\"#1dc2a6\")"
   ]
  },
  {
   "cell_type": "markdown",
   "id": "4e7abe3e",
   "metadata": {
    "papermill": {
     "duration": 0.038037,
     "end_time": "2023-11-27T19:29:40.478352",
     "exception": false,
     "start_time": "2023-11-27T19:29:40.440315",
     "status": "completed"
    },
    "tags": []
   },
   "source": [
    "The graph is increasing till **35000** and starts decreasing again."
   ]
  },
  {
   "cell_type": "markdown",
   "id": "3f9f2ec4",
   "metadata": {
    "papermill": {
     "duration": 0.037955,
     "end_time": "2023-11-27T19:29:40.554943",
     "exception": false,
     "start_time": "2023-11-27T19:29:40.516988",
     "status": "completed"
    },
    "tags": []
   },
   "source": [
    "### 2.2.5 Credit History Length"
   ]
  },
  {
   "cell_type": "code",
   "execution_count": 22,
   "id": "796f3327",
   "metadata": {
    "execution": {
     "iopub.execute_input": "2023-11-27T19:29:40.632783Z",
     "iopub.status.busy": "2023-11-27T19:29:40.632287Z",
     "iopub.status.idle": "2023-11-27T19:29:41.060697Z",
     "shell.execute_reply": "2023-11-27T19:29:41.059500Z"
    },
    "papermill": {
     "duration": 0.470768,
     "end_time": "2023-11-27T19:29:41.063603",
     "exception": false,
     "start_time": "2023-11-27T19:29:40.592835",
     "status": "completed"
    },
    "tags": []
   },
   "outputs": [
    {
     "data": {
      "text/plain": [
       "<AxesSubplot:xlabel='Credit History Length', ylabel='Count'>"
      ]
     },
     "execution_count": 22,
     "metadata": {},
     "output_type": "execute_result"
    },
    {
     "data": {
      "image/png": "[encoded data removed]",
      "text/plain": [
       "<Figure size 1080x432 with 1 Axes>"
      ]
     },
     "metadata": {
      "needs_background": "light"
     },
     "output_type": "display_data"
    }
   ],
   "source": [
    "plt.figure(figsize=(15,6))\n",
    "sns.histplot(data=df[\"Credit History Length\"], x=df[\"Credit History Length\"], element=\"bars\", color=\"#1dc2a6\")"
   ]
  },
  {
   "cell_type": "markdown",
   "id": "0c24993b",
   "metadata": {
    "papermill": {
     "duration": 0.039627,
     "end_time": "2023-11-27T19:29:41.143343",
     "exception": false,
     "start_time": "2023-11-27T19:29:41.103716",
     "status": "completed"
    },
    "tags": []
   },
   "source": [
    "All the data is equally spread."
   ]
  },
  {
   "cell_type": "markdown",
   "id": "657082e4",
   "metadata": {
    "papermill": {
     "duration": 0.041357,
     "end_time": "2023-11-27T19:29:41.225654",
     "exception": false,
     "start_time": "2023-11-27T19:29:41.184297",
     "status": "completed"
    },
    "tags": []
   },
   "source": [
    "## 2.3 Visualizing Correlated Columns"
   ]
  },
  {
   "cell_type": "markdown",
   "id": "6e180196",
   "metadata": {
    "papermill": {
     "duration": 0.039257,
     "end_time": "2023-11-27T19:29:41.305508",
     "exception": false,
     "start_time": "2023-11-27T19:29:41.266251",
     "status": "completed"
    },
    "tags": []
   },
   "source": [
    "### 2.3.1 Finding Correlations"
   ]
  },
  {
   "cell_type": "code",
   "execution_count": 23,
   "id": "740f0e55",
   "metadata": {
    "execution": {
     "iopub.execute_input": "2023-11-27T19:29:41.388890Z",
     "iopub.status.busy": "2023-11-27T19:29:41.388183Z",
     "iopub.status.idle": "2023-11-27T19:29:41.871853Z",
     "shell.execute_reply": "2023-11-27T19:29:41.870569Z"
    },
    "papermill": {
     "duration": 0.529415,
     "end_time": "2023-11-27T19:29:41.875266",
     "exception": false,
     "start_time": "2023-11-27T19:29:41.345851",
     "status": "completed"
    },
    "tags": []
   },
   "outputs": [
    {
     "data": {
      "text/plain": [
       "<AxesSubplot:>"
      ]
     },
     "execution_count": 23,
     "metadata": {},
     "output_type": "execute_result"
    },
    {
     "data": {
      "image/png": "[encoded data removed]",
      "text/plain": [
       "<Figure size 1800x432 with 2 Axes>"
      ]
     },
     "metadata": {
      "needs_background": "light"
     },
     "output_type": "display_data"
    }
   ],
   "source": [
    "plt.figure(figsize=(25,6))\n",
    "sns.heatmap(df.corr(),cmap=sns.diverging_palette(230, 20, as_cmap=True),vmax=.3, center=0,square=True, linewidths=.5, cbar_kws={\"shrink\": .5})"
   ]
  },
  {
   "cell_type": "markdown",
   "id": "9c660d22",
   "metadata": {
    "papermill": {
     "duration": 0.04013,
     "end_time": "2023-11-27T19:29:41.956652",
     "exception": false,
     "start_time": "2023-11-27T19:29:41.916522",
     "status": "completed"
    },
    "tags": []
   },
   "source": [
    "### 2.3.2 Filtering Significant Correlations"
   ]
  },
  {
   "cell_type": "code",
   "execution_count": 24,
   "id": "2de4271a",
   "metadata": {
    "execution": {
     "iopub.execute_input": "2023-11-27T19:29:42.043734Z",
     "iopub.status.busy": "2023-11-27T19:29:42.042399Z",
     "iopub.status.idle": "2023-11-27T19:29:42.553799Z",
     "shell.execute_reply": "2023-11-27T19:29:42.552566Z"
    },
    "papermill": {
     "duration": 0.560186,
     "end_time": "2023-11-27T19:29:42.557030",
     "exception": false,
     "start_time": "2023-11-27T19:29:41.996844",
     "status": "completed"
    },
    "tags": []
   },
   "outputs": [
    {
     "data": {
      "image/png": "[encoded data removed]",
      "text/plain": [
       "<Figure size 576x360 with 2 Axes>"
      ]
     },
     "metadata": {
      "needs_background": "light"
     },
     "output_type": "display_data"
    }
   ],
   "source": [
    "dfCorr = df.corr()\n",
    "filteredDf = dfCorr[((dfCorr >= .5) | (dfCorr <= -.5)) & (dfCorr !=1.000)]\n",
    "plt.figure(figsize=(8,5))\n",
    "sns.heatmap(filteredDf, annot=True, cmap=sns.diverging_palette(230, 20, as_cmap=True))\n",
    "plt.show()"
   ]
  },
  {
   "cell_type": "markdown",
   "id": "b0068e8f",
   "metadata": {
    "papermill": {
     "duration": 0.044395,
     "end_time": "2023-11-27T19:29:42.641614",
     "exception": false,
     "start_time": "2023-11-27T19:29:42.597219",
     "status": "completed"
    },
    "tags": []
   },
   "source": [
    "   1. Following are significantly positive correlating attributes with Credit Score in descending order:\n",
    "\n",
    "    * **Number of Existing Loans**\n",
    "    * **Profile Score**\n",
    "    * **Loan Tenure**\n",
    "    \n",
    "        Attributes with values more than **0.7** can be dropped as they are of no use."
   ]
  },
  {
   "cell_type": "markdown",
   "id": "b51ed49e",
   "metadata": {
    "papermill": {
     "duration": 0.039615,
     "end_time": "2023-11-27T19:29:42.721227",
     "exception": false,
     "start_time": "2023-11-27T19:29:42.681612",
     "status": "completed"
    },
    "tags": []
   },
   "source": [
    "#### 2.3.2.1 Credit Score & Profile Score"
   ]
  },
  {
   "cell_type": "code",
   "execution_count": 25,
   "id": "ffda7e8e",
   "metadata": {
    "execution": {
     "iopub.execute_input": "2023-11-27T19:29:42.807633Z",
     "iopub.status.busy": "2023-11-27T19:29:42.807119Z",
     "iopub.status.idle": "2023-11-27T19:29:43.865655Z",
     "shell.execute_reply": "2023-11-27T19:29:43.863949Z"
    },
    "papermill": {
     "duration": 1.107285,
     "end_time": "2023-11-27T19:29:43.869105",
     "exception": false,
     "start_time": "2023-11-27T19:29:42.761820",
     "status": "completed"
    },
    "tags": []
   },
   "outputs": [
    {
     "data": {
      "text/plain": [
       "<seaborn.axisgrid.FacetGrid at 0x7d4280b62b50>"
      ]
     },
     "execution_count": 25,
     "metadata": {},
     "output_type": "execute_result"
    },
    {
     "data": {
      "image/png": "[encoded data removed]",
      "text/plain": [
       "<Figure size 360x360 with 1 Axes>"
      ]
     },
     "metadata": {
      "needs_background": "light"
     },
     "output_type": "display_data"
    }
   ],
   "source": [
    "sns.relplot(data=df, x=df[\"Profile Score\"], y=df[\"Credit Score\"])"
   ]
  },
  {
   "cell_type": "markdown",
   "id": "2bc9f02a",
   "metadata": {
    "papermill": {
     "duration": 0.041707,
     "end_time": "2023-11-27T19:29:43.953253",
     "exception": false,
     "start_time": "2023-11-27T19:29:43.911546",
     "status": "completed"
    },
    "tags": []
   },
   "source": [
    "Both of the columns are highly correlated and almost same.\n",
    ">It is obvious that a person having more profile score is expected to have more credit score."
   ]
  },
  {
   "cell_type": "markdown",
   "id": "60e3df09",
   "metadata": {
    "papermill": {
     "duration": 0.047716,
     "end_time": "2023-11-27T19:29:44.042632",
     "exception": false,
     "start_time": "2023-11-27T19:29:43.994916",
     "status": "completed"
    },
    "tags": []
   },
   "source": [
    "#### 2.3.2.2 Credit Score & Number of Existing Loans"
   ]
  },
  {
   "cell_type": "code",
   "execution_count": 26,
   "id": "1b94b510",
   "metadata": {
    "execution": {
     "iopub.execute_input": "2023-11-27T19:29:44.131017Z",
     "iopub.status.busy": "2023-11-27T19:29:44.130559Z",
     "iopub.status.idle": "2023-11-27T19:29:45.056613Z",
     "shell.execute_reply": "2023-11-27T19:29:45.054844Z"
    },
    "papermill": {
     "duration": 0.974359,
     "end_time": "2023-11-27T19:29:45.059763",
     "exception": false,
     "start_time": "2023-11-27T19:29:44.085404",
     "status": "completed"
    },
    "tags": []
   },
   "outputs": [
    {
     "data": {
      "text/plain": [
       "<seaborn.axisgrid.FacetGrid at 0x7d4280675610>"
      ]
     },
     "execution_count": 26,
     "metadata": {},
     "output_type": "execute_result"
    },
    {
     "data": {
      "image/png": "[encoded data removed]",
      "text/plain": [
       "<Figure size 360x360 with 1 Axes>"
      ]
     },
     "metadata": {
      "needs_background": "light"
     },
     "output_type": "display_data"
    }
   ],
   "source": [
    "sns.relplot(data=df, x=df[\"Number of Existing Loans\"], y=df[\"Credit Score\"])"
   ]
  },
  {
   "cell_type": "markdown",
   "id": "4e84e2c8",
   "metadata": {
    "papermill": {
     "duration": 0.043402,
     "end_time": "2023-11-27T19:29:45.146257",
     "exception": false,
     "start_time": "2023-11-27T19:29:45.102855",
     "status": "completed"
    },
    "tags": []
   },
   "source": [
    "Both of the columns are highly correlated and almost same.\n",
    ">It is obvious that a person having more number of existing loans is expected to have more credit score."
   ]
  },
  {
   "cell_type": "markdown",
   "id": "6ee6e4ac",
   "metadata": {
    "papermill": {
     "duration": 0.042627,
     "end_time": "2023-11-27T19:29:45.232211",
     "exception": false,
     "start_time": "2023-11-27T19:29:45.189584",
     "status": "completed"
    },
    "tags": []
   },
   "source": [
    "#### 2.3.2.3 Loan Tenure & Credit Score"
   ]
  },
  {
   "cell_type": "code",
   "execution_count": 27,
   "id": "371d852c",
   "metadata": {
    "execution": {
     "iopub.execute_input": "2023-11-27T19:29:45.320960Z",
     "iopub.status.busy": "2023-11-27T19:29:45.319966Z",
     "iopub.status.idle": "2023-11-27T19:29:46.353062Z",
     "shell.execute_reply": "2023-11-27T19:29:46.351559Z"
    },
    "papermill": {
     "duration": 1.083635,
     "end_time": "2023-11-27T19:29:46.358380",
     "exception": false,
     "start_time": "2023-11-27T19:29:45.274745",
     "status": "completed"
    },
    "tags": []
   },
   "outputs": [
    {
     "data": {
      "text/plain": [
       "<seaborn.axisgrid.FacetGrid at 0x7d4280604c10>"
      ]
     },
     "execution_count": 27,
     "metadata": {},
     "output_type": "execute_result"
    },
    {
     "data": {
      "image/png": "[encoded data removed]",
      "text/plain": [
       "<Figure size 360x360 with 1 Axes>"
      ]
     },
     "metadata": {
      "needs_background": "light"
     },
     "output_type": "display_data"
    }
   ],
   "source": [
    "sns.relplot(data=df, x=df[\"Loan Tenure\"], y=df[\"Credit Score\"])"
   ]
  },
  {
   "cell_type": "markdown",
   "id": "36297966",
   "metadata": {
    "papermill": {
     "duration": 0.046405,
     "end_time": "2023-11-27T19:29:46.455975",
     "exception": false,
     "start_time": "2023-11-27T19:29:46.409570",
     "status": "completed"
    },
    "tags": []
   },
   "source": [
    "Both of the columns are correlated.\n",
    ">It is obvious that a person having more loan tenure is expected to have more credit score."
   ]
  },
  {
   "cell_type": "markdown",
   "id": "d7bed417",
   "metadata": {
    "papermill": {
     "duration": 0.046979,
     "end_time": "2023-11-27T19:29:46.549316",
     "exception": false,
     "start_time": "2023-11-27T19:29:46.502337",
     "status": "completed"
    },
    "tags": []
   },
   "source": [
    "# 3. Data pre-processing"
   ]
  },
  {
   "cell_type": "markdown",
   "id": "fbe8bb44",
   "metadata": {
    "papermill": {
     "duration": 0.049079,
     "end_time": "2023-11-27T19:29:46.646068",
     "exception": false,
     "start_time": "2023-11-27T19:29:46.596989",
     "status": "completed"
    },
    "tags": []
   },
   "source": [
    "## 3.1. Grouping columns."
   ]
  },
  {
   "cell_type": "code",
   "execution_count": 28,
   "id": "2526c8b1",
   "metadata": {
    "execution": {
     "iopub.execute_input": "2023-11-27T19:29:46.744341Z",
     "iopub.status.busy": "2023-11-27T19:29:46.743825Z",
     "iopub.status.idle": "2023-11-27T19:29:46.765345Z",
     "shell.execute_reply": "2023-11-27T19:29:46.763916Z"
    },
    "papermill": {
     "duration": 0.072986,
     "end_time": "2023-11-27T19:29:46.768766",
     "exception": false,
     "start_time": "2023-11-27T19:29:46.695780",
     "status": "completed"
    },
    "tags": []
   },
   "outputs": [],
   "source": [
    "for dataset in [df]:\n",
    "    dataset.loc[dataset['Credit Score'] <= 650, 'Credit Score'] = 0\n",
    "    dataset.loc[dataset['Credit Score'] > 650, 'Credit Score'] = 1"
   ]
  },
  {
   "cell_type": "markdown",
   "id": "0e25dd2b",
   "metadata": {
    "papermill": {
     "duration": 0.047017,
     "end_time": "2023-11-27T19:29:46.869554",
     "exception": false,
     "start_time": "2023-11-27T19:29:46.822537",
     "status": "completed"
    },
    "tags": []
   },
   "source": [
    "### 3.2 Checking for data types of columns"
   ]
  },
  {
   "cell_type": "code",
   "execution_count": 29,
   "id": "25516b9a",
   "metadata": {
    "execution": {
     "iopub.execute_input": "2023-11-27T19:29:46.966352Z",
     "iopub.status.busy": "2023-11-27T19:29:46.965038Z",
     "iopub.status.idle": "2023-11-27T19:29:46.978523Z",
     "shell.execute_reply": "2023-11-27T19:29:46.976587Z"
    },
    "papermill": {
     "duration": 0.064958,
     "end_time": "2023-11-27T19:29:46.981553",
     "exception": false,
     "start_time": "2023-11-27T19:29:46.916595",
     "status": "completed"
    },
    "tags": []
   },
   "outputs": [
    {
     "data": {
      "text/plain": [
       "Age                           int64\n",
       "Gender                       object\n",
       "Income                        int64\n",
       "Credit Score                  int64\n",
       "Credit History Length         int64\n",
       "Number of Existing Loans      int64\n",
       "Loan Amount                   int64\n",
       "Loan Tenure                   int64\n",
       "Existing Customer            object\n",
       "State                        object\n",
       "City                         object\n",
       "LTV Ratio                   float64\n",
       "Employment Profile           object\n",
       "Profile Score                 int64\n",
       "Occupation                   object\n",
       "dtype: object"
      ]
     },
     "execution_count": 29,
     "metadata": {},
     "output_type": "execute_result"
    }
   ],
   "source": [
    "df.dtypes"
   ]
  },
  {
   "cell_type": "markdown",
   "id": "db3ddf87",
   "metadata": {
    "papermill": {
     "duration": 0.045733,
     "end_time": "2023-11-27T19:29:47.076957",
     "exception": false,
     "start_time": "2023-11-27T19:29:47.031224",
     "status": "completed"
    },
    "tags": []
   },
   "source": [
    "## 3.3 Handling Missing Values"
   ]
  },
  {
   "cell_type": "markdown",
   "id": "c2887ea5",
   "metadata": {
    "papermill": {
     "duration": 0.04427,
     "end_time": "2023-11-27T19:29:47.166524",
     "exception": false,
     "start_time": "2023-11-27T19:29:47.122254",
     "status": "completed"
    },
    "tags": []
   },
   "source": [
    "### 3.3.1 Filling values with mode of columns"
   ]
  },
  {
   "cell_type": "code",
   "execution_count": 30,
   "id": "70307eb5",
   "metadata": {
    "execution": {
     "iopub.execute_input": "2023-11-27T19:29:47.260286Z",
     "iopub.status.busy": "2023-11-27T19:29:47.258798Z",
     "iopub.status.idle": "2023-11-27T19:29:47.944239Z",
     "shell.execute_reply": "2023-11-27T19:29:47.942597Z"
    },
    "papermill": {
     "duration": 0.736135,
     "end_time": "2023-11-27T19:29:47.947854",
     "exception": false,
     "start_time": "2023-11-27T19:29:47.211719",
     "status": "completed"
    },
    "tags": []
   },
   "outputs": [
    {
     "data": {
      "text/html": [
       "<div>\n",
       "<style scoped>\n",
       "    .dataframe tbody tr th:only-of-type {\n",
       "        vertical-align: middle;\n",
       "    }\n",
       "\n",
       "    .dataframe tbody tr th {\n",
       "        vertical-align: top;\n",
       "    }\n",
       "\n",
       "    .dataframe thead th {\n",
       "        text-align: right;\n",
       "    }\n",
       "</style>\n",
       "<table border=\"1\" class=\"dataframe\">\n",
       "  <thead>\n",
       "    <tr style=\"text-align: right;\">\n",
       "      <th></th>\n",
       "      <th>Age</th>\n",
       "      <th>Gender</th>\n",
       "      <th>Income</th>\n",
       "      <th>Credit Score</th>\n",
       "      <th>Credit History Length</th>\n",
       "      <th>Number of Existing Loans</th>\n",
       "      <th>Loan Amount</th>\n",
       "      <th>Loan Tenure</th>\n",
       "      <th>Existing Customer</th>\n",
       "      <th>State</th>\n",
       "      <th>City</th>\n",
       "      <th>LTV Ratio</th>\n",
       "      <th>Employment Profile</th>\n",
       "      <th>Profile Score</th>\n",
       "      <th>Occupation</th>\n",
       "    </tr>\n",
       "  </thead>\n",
       "  <tbody>\n",
       "    <tr>\n",
       "      <th>0</th>\n",
       "      <td>31</td>\n",
       "      <td>Male</td>\n",
       "      <td>36000</td>\n",
       "      <td>0</td>\n",
       "      <td>487</td>\n",
       "      <td>5</td>\n",
       "      <td>109373</td>\n",
       "      <td>221</td>\n",
       "      <td>No</td>\n",
       "      <td>Karnataka</td>\n",
       "      <td>Mysuru</td>\n",
       "      <td>90.943430</td>\n",
       "      <td>Salaried</td>\n",
       "      <td>77</td>\n",
       "      <td>Doctor</td>\n",
       "    </tr>\n",
       "    <tr>\n",
       "      <th>1</th>\n",
       "      <td>25</td>\n",
       "      <td>Male</td>\n",
       "      <td>50000</td>\n",
       "      <td>0</td>\n",
       "      <td>386</td>\n",
       "      <td>2</td>\n",
       "      <td>150000</td>\n",
       "      <td>89</td>\n",
       "      <td>No</td>\n",
       "      <td>Karnataka</td>\n",
       "      <td>Bengaluru</td>\n",
       "      <td>91.135253</td>\n",
       "      <td>Salaried</td>\n",
       "      <td>43</td>\n",
       "      <td>Software Engineer</td>\n",
       "    </tr>\n",
       "    <tr>\n",
       "      <th>2</th>\n",
       "      <td>62</td>\n",
       "      <td>Other</td>\n",
       "      <td>178000</td>\n",
       "      <td>1</td>\n",
       "      <td>503</td>\n",
       "      <td>10</td>\n",
       "      <td>69099</td>\n",
       "      <td>110</td>\n",
       "      <td>Yes</td>\n",
       "      <td>Uttar Pradesh</td>\n",
       "      <td>Kanpur</td>\n",
       "      <td>40.000000</td>\n",
       "      <td>Salaried</td>\n",
       "      <td>90</td>\n",
       "      <td>Banker</td>\n",
       "    </tr>\n",
       "    <tr>\n",
       "      <th>3</th>\n",
       "      <td>69</td>\n",
       "      <td>Female</td>\n",
       "      <td>46000</td>\n",
       "      <td>1</td>\n",
       "      <td>349</td>\n",
       "      <td>6</td>\n",
       "      <td>150000</td>\n",
       "      <td>148</td>\n",
       "      <td>Yes</td>\n",
       "      <td>Karnataka</td>\n",
       "      <td>Bengaluru</td>\n",
       "      <td>87.393365</td>\n",
       "      <td>Self-Employed</td>\n",
       "      <td>86</td>\n",
       "      <td>Contractor</td>\n",
       "    </tr>\n",
       "    <tr>\n",
       "      <th>4</th>\n",
       "      <td>52</td>\n",
       "      <td>Male</td>\n",
       "      <td>132000</td>\n",
       "      <td>0</td>\n",
       "      <td>553</td>\n",
       "      <td>5</td>\n",
       "      <td>150000</td>\n",
       "      <td>157</td>\n",
       "      <td>No</td>\n",
       "      <td>Karnataka</td>\n",
       "      <td>Mysuru</td>\n",
       "      <td>66.158757</td>\n",
       "      <td>Salaried</td>\n",
       "      <td>90</td>\n",
       "      <td>Teacher</td>\n",
       "    </tr>\n",
       "  </tbody>\n",
       "</table>\n",
       "</div>"
      ],
      "text/plain": [
       "   Age  Gender  Income  Credit Score  Credit History Length  \\\n",
       "0   31    Male   36000             0                    487   \n",
       "1   25    Male   50000             0                    386   \n",
       "2   62   Other  178000             1                    503   \n",
       "3   69  Female   46000             1                    349   \n",
       "4   52    Male  132000             0                    553   \n",
       "\n",
       "   Number of Existing Loans  Loan Amount  Loan Tenure Existing Customer  \\\n",
       "0                         5       109373          221                No   \n",
       "1                         2       150000           89                No   \n",
       "2                        10        69099          110               Yes   \n",
       "3                         6       150000          148               Yes   \n",
       "4                         5       150000          157                No   \n",
       "\n",
       "           State       City  LTV Ratio Employment Profile  Profile Score  \\\n",
       "0      Karnataka     Mysuru  90.943430           Salaried             77   \n",
       "1      Karnataka  Bengaluru  91.135253           Salaried             43   \n",
       "2  Uttar Pradesh     Kanpur  40.000000           Salaried             90   \n",
       "3      Karnataka  Bengaluru  87.393365      Self-Employed             86   \n",
       "4      Karnataka     Mysuru  66.158757           Salaried             90   \n",
       "\n",
       "          Occupation  \n",
       "0             Doctor  \n",
       "1  Software Engineer  \n",
       "2             Banker  \n",
       "3         Contractor  \n",
       "4            Teacher  "
      ]
     },
     "execution_count": 30,
     "metadata": {},
     "output_type": "execute_result"
    }
   ],
   "source": [
    "df = df.apply(lambda x: x.fillna(x.value_counts().index[0]))\n",
    "df.head()"
   ]
  },
  {
   "cell_type": "markdown",
   "id": "9f1ad15c",
   "metadata": {
    "papermill": {
     "duration": 0.054939,
     "end_time": "2023-11-27T19:29:48.051726",
     "exception": false,
     "start_time": "2023-11-27T19:29:47.996787",
     "status": "completed"
    },
    "tags": []
   },
   "source": [
    "### 3.3.2 Checking for sum of missing values(if left)"
   ]
  },
  {
   "cell_type": "code",
   "execution_count": 31,
   "id": "bcb782c5",
   "metadata": {
    "execution": {
     "iopub.execute_input": "2023-11-27T19:29:48.143533Z",
     "iopub.status.busy": "2023-11-27T19:29:48.143013Z",
     "iopub.status.idle": "2023-11-27T19:29:48.352315Z",
     "shell.execute_reply": "2023-11-27T19:29:48.350260Z"
    },
    "papermill": {
     "duration": 0.259364,
     "end_time": "2023-11-27T19:29:48.355771",
     "exception": false,
     "start_time": "2023-11-27T19:29:48.096407",
     "status": "completed"
    },
    "tags": []
   },
   "outputs": [
    {
     "data": {
      "text/plain": [
       "Age                         0\n",
       "Gender                      0\n",
       "Income                      0\n",
       "Credit Score                0\n",
       "Credit History Length       0\n",
       "Number of Existing Loans    0\n",
       "Loan Amount                 0\n",
       "Loan Tenure                 0\n",
       "Existing Customer           0\n",
       "State                       0\n",
       "City                        0\n",
       "LTV Ratio                   0\n",
       "Employment Profile          0\n",
       "Profile Score               0\n",
       "Occupation                  0\n",
       "dtype: int64"
      ]
     },
     "execution_count": 31,
     "metadata": {},
     "output_type": "execute_result"
    }
   ],
   "source": [
    "df.isna().sum()"
   ]
  },
  {
   "cell_type": "markdown",
   "id": "d3226922",
   "metadata": {
    "papermill": {
     "duration": 0.047976,
     "end_time": "2023-11-27T19:29:48.450471",
     "exception": false,
     "start_time": "2023-11-27T19:29:48.402495",
     "status": "completed"
    },
    "tags": []
   },
   "source": [
    "## 3.4 Encoding Columns"
   ]
  },
  {
   "cell_type": "code",
   "execution_count": 32,
   "id": "edbc9748",
   "metadata": {
    "execution": {
     "iopub.execute_input": "2023-11-27T19:29:48.550345Z",
     "iopub.status.busy": "2023-11-27T19:29:48.548706Z",
     "iopub.status.idle": "2023-11-27T19:29:48.761508Z",
     "shell.execute_reply": "2023-11-27T19:29:48.759726Z"
    },
    "papermill": {
     "duration": 0.265522,
     "end_time": "2023-11-27T19:29:48.764680",
     "exception": false,
     "start_time": "2023-11-27T19:29:48.499158",
     "status": "completed"
    },
    "tags": []
   },
   "outputs": [
    {
     "name": "stdout",
     "output_type": "stream",
     "text": [
      "<class 'pandas.core.frame.DataFrame'>\n",
      "RangeIndex: 279856 entries, 0 to 279855\n",
      "Data columns (total 15 columns):\n",
      " #   Column                    Non-Null Count   Dtype  \n",
      "---  ------                    --------------   -----  \n",
      " 0   Age                       279856 non-null  int64  \n",
      " 1   Gender                    279856 non-null  object \n",
      " 2   Income                    279856 non-null  int64  \n",
      " 3   Credit Score              279856 non-null  int64  \n",
      " 4   Credit History Length     279856 non-null  int64  \n",
      " 5   Number of Existing Loans  279856 non-null  int64  \n",
      " 6   Loan Amount               279856 non-null  int64  \n",
      " 7   Loan Tenure               279856 non-null  int64  \n",
      " 8   Existing Customer         279856 non-null  object \n",
      " 9   State                     279856 non-null  object \n",
      " 10  City                      279856 non-null  object \n",
      " 11  LTV Ratio                 279856 non-null  float64\n",
      " 12  Employment Profile        279856 non-null  object \n",
      " 13  Profile Score             279856 non-null  int64  \n",
      " 14  Occupation                279856 non-null  object \n",
      "dtypes: float64(1), int64(8), object(6)\n",
      "memory usage: 32.0+ MB\n"
     ]
    }
   ],
   "source": [
    "df.info()"
   ]
  },
  {
   "cell_type": "code",
   "execution_count": 33,
   "id": "c7462897",
   "metadata": {
    "execution": {
     "iopub.execute_input": "2023-11-27T19:29:48.856332Z",
     "iopub.status.busy": "2023-11-27T19:29:48.855892Z",
     "iopub.status.idle": "2023-11-27T19:29:49.556734Z",
     "shell.execute_reply": "2023-11-27T19:29:49.555152Z"
    },
    "papermill": {
     "duration": 0.750159,
     "end_time": "2023-11-27T19:29:49.559911",
     "exception": false,
     "start_time": "2023-11-27T19:29:48.809752",
     "status": "completed"
    },
    "tags": []
   },
   "outputs": [],
   "source": [
    "le = LabelEncoder()\n",
    "df[\"Gender\"] = le.fit_transform(df[\"Gender\"])\n",
    "df[\"Occupation\"] = le.fit_transform(df[\"Occupation\"])\n",
    "df[\"Existing Customer\"] = le.fit_transform(df[\"Existing Customer\"])\n",
    "df[\"State\"] = le.fit_transform(df[\"State\"])\n",
    "df[\"City\"] = le.fit_transform(df[\"City\"])\n",
    "df[\"Employment Profile\"] = le.fit_transform(df[\"Employment Profile\"])\n",
    "df = df.astype(int)"
   ]
  },
  {
   "cell_type": "markdown",
   "id": "2732fc95",
   "metadata": {
    "papermill": {
     "duration": 0.045423,
     "end_time": "2023-11-27T19:29:49.653121",
     "exception": false,
     "start_time": "2023-11-27T19:29:49.607698",
     "status": "completed"
    },
    "tags": []
   },
   "source": [
    "## 3.5 Checking data types"
   ]
  },
  {
   "cell_type": "code",
   "execution_count": 34,
   "id": "3ccdca47",
   "metadata": {
    "execution": {
     "iopub.execute_input": "2023-11-27T19:29:49.747045Z",
     "iopub.status.busy": "2023-11-27T19:29:49.746499Z",
     "iopub.status.idle": "2023-11-27T19:29:49.757074Z",
     "shell.execute_reply": "2023-11-27T19:29:49.755723Z"
    },
    "papermill": {
     "duration": 0.060636,
     "end_time": "2023-11-27T19:29:49.760317",
     "exception": false,
     "start_time": "2023-11-27T19:29:49.699681",
     "status": "completed"
    },
    "tags": []
   },
   "outputs": [
    {
     "data": {
      "text/plain": [
       "Age                         int64\n",
       "Gender                      int64\n",
       "Income                      int64\n",
       "Credit Score                int64\n",
       "Credit History Length       int64\n",
       "Number of Existing Loans    int64\n",
       "Loan Amount                 int64\n",
       "Loan Tenure                 int64\n",
       "Existing Customer           int64\n",
       "State                       int64\n",
       "City                        int64\n",
       "LTV Ratio                   int64\n",
       "Employment Profile          int64\n",
       "Profile Score               int64\n",
       "Occupation                  int64\n",
       "dtype: object"
      ]
     },
     "execution_count": 34,
     "metadata": {},
     "output_type": "execute_result"
    }
   ],
   "source": [
    "df.dtypes"
   ]
  },
  {
   "cell_type": "markdown",
   "id": "f6451038",
   "metadata": {
    "papermill": {
     "duration": 0.047405,
     "end_time": "2023-11-27T19:29:49.856271",
     "exception": false,
     "start_time": "2023-11-27T19:29:49.808866",
     "status": "completed"
    },
    "tags": []
   },
   "source": [
    "All columns have been converted to the same data type."
   ]
  },
  {
   "cell_type": "markdown",
   "id": "d9c45c94",
   "metadata": {
    "papermill": {
     "duration": 0.047205,
     "end_time": "2023-11-27T19:29:49.952815",
     "exception": false,
     "start_time": "2023-11-27T19:29:49.905610",
     "status": "completed"
    },
    "tags": []
   },
   "source": [
    "# 4. Model Development & Classification"
   ]
  },
  {
   "cell_type": "markdown",
   "id": "3db725d6",
   "metadata": {
    "papermill": {
     "duration": 0.048954,
     "end_time": "2023-11-27T19:29:50.052011",
     "exception": false,
     "start_time": "2023-11-27T19:29:50.003057",
     "status": "completed"
    },
    "tags": []
   },
   "source": [
    "## 4.1 Data preparation"
   ]
  },
  {
   "cell_type": "markdown",
   "id": "f413a02d",
   "metadata": {
    "papermill": {
     "duration": 0.0461,
     "end_time": "2023-11-27T19:29:50.145183",
     "exception": false,
     "start_time": "2023-11-27T19:29:50.099083",
     "status": "completed"
    },
    "tags": []
   },
   "source": [
    "We will **drop** the following columns as they have little to no contribution in variance of dataset as per the inference by PCA."
   ]
  },
  {
   "cell_type": "code",
   "execution_count": 35,
   "id": "5bd166e4",
   "metadata": {
    "execution": {
     "iopub.execute_input": "2023-11-27T19:29:50.242341Z",
     "iopub.status.busy": "2023-11-27T19:29:50.241822Z",
     "iopub.status.idle": "2023-11-27T19:29:50.289615Z",
     "shell.execute_reply": "2023-11-27T19:29:50.287858Z"
    },
    "papermill": {
     "duration": 0.100832,
     "end_time": "2023-11-27T19:29:50.293273",
     "exception": false,
     "start_time": "2023-11-27T19:29:50.192441",
     "status": "completed"
    },
    "tags": []
   },
   "outputs": [],
   "source": [
    "X= df.drop(['Credit Score','State', 'City','Age','Gender','LTV Ratio','Credit History Length','Profile Score','Existing Customer','Employment Profile'],axis=1)\n",
    "y=df['Credit Score']"
   ]
  },
  {
   "cell_type": "markdown",
   "id": "57b41508",
   "metadata": {
    "papermill": {
     "duration": 0.049362,
     "end_time": "2023-11-27T19:29:50.389492",
     "exception": false,
     "start_time": "2023-11-27T19:29:50.340130",
     "status": "completed"
    },
    "tags": []
   },
   "source": [
    "## 4.2 Training the dataset"
   ]
  },
  {
   "cell_type": "code",
   "execution_count": 36,
   "id": "c19fe5a5",
   "metadata": {
    "execution": {
     "iopub.execute_input": "2023-11-27T19:29:50.488420Z",
     "iopub.status.busy": "2023-11-27T19:29:50.487092Z",
     "iopub.status.idle": "2023-11-27T19:29:50.532193Z",
     "shell.execute_reply": "2023-11-27T19:29:50.531092Z"
    },
    "papermill": {
     "duration": 0.097376,
     "end_time": "2023-11-27T19:29:50.535448",
     "exception": false,
     "start_time": "2023-11-27T19:29:50.438072",
     "status": "completed"
    },
    "tags": []
   },
   "outputs": [],
   "source": [
    "X_train, X_test, y_train, y_test = train_test_split(X, y, test_size = 0.3, random_state = 0)"
   ]
  },
  {
   "cell_type": "code",
   "execution_count": 37,
   "id": "8c984a45",
   "metadata": {
    "execution": {
     "iopub.execute_input": "2023-11-27T19:29:50.631902Z",
     "iopub.status.busy": "2023-11-27T19:29:50.631452Z",
     "iopub.status.idle": "2023-11-27T19:29:50.702721Z",
     "shell.execute_reply": "2023-11-27T19:29:50.701454Z"
    },
    "papermill": {
     "duration": 0.123783,
     "end_time": "2023-11-27T19:29:50.706464",
     "exception": false,
     "start_time": "2023-11-27T19:29:50.582681",
     "status": "completed"
    },
    "tags": []
   },
   "outputs": [],
   "source": [
    "split_size=0.3\n",
    "\n",
    "#Creation of Train and Test dataset\n",
    "X_train, X_test, y_train, y_test = train_test_split(X,y,test_size=split_size,random_state=22)\n",
    "\n",
    "#Creation of Train and validation dataset\n",
    "X_train, X_val, y_train, y_val = train_test_split(X_train,y_train,test_size=0.2,random_state=5)"
   ]
  },
  {
   "cell_type": "code",
   "execution_count": 38,
   "id": "bc697589",
   "metadata": {
    "execution": {
     "iopub.execute_input": "2023-11-27T19:29:50.910678Z",
     "iopub.status.busy": "2023-11-27T19:29:50.910165Z",
     "iopub.status.idle": "2023-11-27T19:29:50.918241Z",
     "shell.execute_reply": "2023-11-27T19:29:50.916833Z"
    },
    "papermill": {
     "duration": 0.164367,
     "end_time": "2023-11-27T19:29:50.921342",
     "exception": false,
     "start_time": "2023-11-27T19:29:50.756975",
     "status": "completed"
    },
    "tags": []
   },
   "outputs": [
    {
     "name": "stdout",
     "output_type": "stream",
     "text": [
      "Train dataset: (156719, 5)(156719,)\n",
      "Validation dataset: (39180, 5)(39180,)\n",
      "Test dataset: (83957, 5)(83957,)\n"
     ]
    }
   ],
   "source": [
    "print (\"Train dataset: {0}{1}\".format(X_train.shape, y_train.shape))\n",
    "print (\"Validation dataset: {0}{1}\".format(X_val.shape, y_val.shape))\n",
    "print (\"Test dataset: {0}{1}\".format(X_test.shape, y_test.shape))"
   ]
  },
  {
   "cell_type": "markdown",
   "id": "825d39ae",
   "metadata": {
    "papermill": {
     "duration": 0.050616,
     "end_time": "2023-11-27T19:29:51.018525",
     "exception": false,
     "start_time": "2023-11-27T19:29:50.967909",
     "status": "completed"
    },
    "tags": []
   },
   "source": [
    "## 4.3 Model Developement"
   ]
  },
  {
   "cell_type": "markdown",
   "id": "35b71d7c",
   "metadata": {
    "papermill": {
     "duration": 0.046914,
     "end_time": "2023-11-27T19:29:51.114480",
     "exception": false,
     "start_time": "2023-11-27T19:29:51.067566",
     "status": "completed"
    },
    "tags": []
   },
   "source": [
    "### 4.3.1 Initiating the model"
   ]
  },
  {
   "cell_type": "code",
   "execution_count": 39,
   "id": "08359237",
   "metadata": {
    "execution": {
     "iopub.execute_input": "2023-11-27T19:29:51.214609Z",
     "iopub.status.busy": "2023-11-27T19:29:51.213212Z",
     "iopub.status.idle": "2023-11-27T19:29:51.222248Z",
     "shell.execute_reply": "2023-11-27T19:29:51.220725Z"
    },
    "papermill": {
     "duration": 0.062946,
     "end_time": "2023-11-27T19:29:51.225644",
     "exception": false,
     "start_time": "2023-11-27T19:29:51.162698",
     "status": "completed"
    },
    "tags": []
   },
   "outputs": [],
   "source": [
    "models = []\n",
    "names = ['Random Forest','GaussianNB','DecisionTreeClassifier','Adaboost','Xgboost','LGBM']\n",
    "\n",
    "models.append((RandomForestClassifier(n_estimators=100)))\n",
    "models.append((GaussianNB()))\n",
    "models.append((DecisionTreeClassifier()))\n",
    "models.append((AdaBoostClassifier()))\n",
    "models.append((xgb.XGBClassifier()))\n",
    "models.append((ltb.LGBMClassifier()))"
   ]
  },
  {
   "cell_type": "markdown",
   "id": "ceb56e24",
   "metadata": {
    "papermill": {
     "duration": 0.047225,
     "end_time": "2023-11-27T19:29:51.319568",
     "exception": false,
     "start_time": "2023-11-27T19:29:51.272343",
     "status": "completed"
    },
    "tags": []
   },
   "source": [
    "### 4.3.2 Cross-vaildating models & choosing best fit."
   ]
  },
  {
   "cell_type": "code",
   "execution_count": 40,
   "id": "d844985c",
   "metadata": {
    "execution": {
     "iopub.execute_input": "2023-11-27T19:29:51.418066Z",
     "iopub.status.busy": "2023-11-27T19:29:51.417614Z",
     "iopub.status.idle": "2023-11-27T19:32:08.727744Z",
     "shell.execute_reply": "2023-11-27T19:32:08.726496Z"
    },
    "papermill": {
     "duration": 137.364196,
     "end_time": "2023-11-27T19:32:08.731380",
     "exception": false,
     "start_time": "2023-11-27T19:29:51.367184",
     "status": "completed"
    },
    "tags": []
   },
   "outputs": [
    {
     "name": "stdout",
     "output_type": "stream",
     "text": [
      "----------------------------------------\n",
      "Random Forest: 0.989509954058193\n",
      "----------------------------------------\n",
      "GaussianNB: 0.9170239918325677\n",
      "----------------------------------------\n",
      "DecisionTreeClassifier: 0.9888973966309341\n",
      "----------------------------------------\n",
      "Adaboost: 0.9611536498213374\n",
      "----------------------------------------\n",
      "Xgboost: 0.9712608473711077\n",
      "----------------------------------------\n",
      "LGBM: 0.9661306789178152\n"
     ]
    }
   ],
   "source": [
    "kfold = KFold(n_splits=5)\n",
    "for i in range(0,len(models)):    \n",
    "    cv_result = cross_val_score(models[i],X_train,y_train,cv=kfold,scoring='accuracy')\n",
    "    score=models[i].fit(X_train,y_train)\n",
    "    prediction = models[i].predict(X_val)\n",
    "    acc_score = accuracy_score(y_val,prediction)     \n",
    "    print ('-'*40)\n",
    "    print ('{0}: {1}'.format(names[i],acc_score))"
   ]
  },
  {
   "cell_type": "markdown",
   "id": "1e5dc499",
   "metadata": {
    "papermill": {
     "duration": 0.056595,
     "end_time": "2023-11-27T19:32:08.835330",
     "exception": false,
     "start_time": "2023-11-27T19:32:08.778735",
     "status": "completed"
    },
    "tags": []
   },
   "source": [
    "**Random Forest Classifier** gets selected as it has the **maximum accuracy score**."
   ]
  },
  {
   "cell_type": "markdown",
   "id": "b4443ec3",
   "metadata": {
    "papermill": {
     "duration": 0.052859,
     "end_time": "2023-11-27T19:32:08.938695",
     "exception": false,
     "start_time": "2023-11-27T19:32:08.885836",
     "status": "completed"
    },
    "tags": []
   },
   "source": [
    "## 4.4 Testing the dataset"
   ]
  },
  {
   "cell_type": "code",
   "execution_count": 41,
   "id": "44d47068",
   "metadata": {
    "execution": {
     "iopub.execute_input": "2023-11-27T19:32:09.042369Z",
     "iopub.status.busy": "2023-11-27T19:32:09.041259Z",
     "iopub.status.idle": "2023-11-27T19:32:22.060350Z",
     "shell.execute_reply": "2023-11-27T19:32:22.058411Z"
    },
    "papermill": {
     "duration": 13.076255,
     "end_time": "2023-11-27T19:32:22.063836",
     "exception": false,
     "start_time": "2023-11-27T19:32:08.987581",
     "status": "completed"
    },
    "tags": []
   },
   "outputs": [
    {
     "name": "stdout",
     "output_type": "stream",
     "text": [
      "----------------------------------------\n",
      "Accuracy score:\n",
      "0.9891015638958038\n",
      "----------------------------------------\n",
      "Confusion Matrix:\n",
      "[[51554   612]\n",
      " [  303 31488]]\n",
      "----------------------------------------\n",
      "Classification Matrix:\n",
      "              precision    recall  f1-score   support\n",
      "\n",
      "           0       0.99      0.99      0.99     52166\n",
      "           1       0.98      0.99      0.99     31791\n",
      "\n",
      "    accuracy                           0.99     83957\n",
      "   macro avg       0.99      0.99      0.99     83957\n",
      "weighted avg       0.99      0.99      0.99     83957\n",
      "\n"
     ]
    }
   ],
   "source": [
    "rf = RandomForestClassifier()\n",
    "rf.fit(X_train,y_train)\n",
    "prediction = rf.predict(X_test)\n",
    "print ('-'*40)\n",
    "print ('Accuracy score:')\n",
    "print (accuracy_score(y_test,prediction))\n",
    "print ('-'*40)\n",
    "print ('Confusion Matrix:')\n",
    "print (confusion_matrix(y_test,prediction))\n",
    "print ('-'*40)\n",
    "print ('Classification Matrix:')\n",
    "print (classification_report(y_test,prediction))"
   ]
  },
  {
   "cell_type": "markdown",
   "id": "aacddb44",
   "metadata": {
    "papermill": {
     "duration": 0.047381,
     "end_time": "2023-11-27T19:32:22.160497",
     "exception": false,
     "start_time": "2023-11-27T19:32:22.113116",
     "status": "completed"
    },
    "tags": []
   },
   "source": [
    "# 5. Saving the model"
   ]
  },
  {
   "cell_type": "code",
   "execution_count": 42,
   "id": "d519841e",
   "metadata": {
    "execution": {
     "iopub.execute_input": "2023-11-27T19:32:22.260853Z",
     "iopub.status.busy": "2023-11-27T19:32:22.260357Z",
     "iopub.status.idle": "2023-11-27T19:32:22.391985Z",
     "shell.execute_reply": "2023-11-27T19:32:22.390462Z"
    },
    "papermill": {
     "duration": 0.185232,
     "end_time": "2023-11-27T19:32:22.394978",
     "exception": false,
     "start_time": "2023-11-27T19:32:22.209746",
     "status": "completed"
    },
    "tags": []
   },
   "outputs": [
    {
     "data": {
      "text/plain": [
       "['final_model.sav']"
      ]
     },
     "execution_count": 42,
     "metadata": {},
     "output_type": "execute_result"
    }
   ],
   "source": [
    "filename='final_model.sav'\n",
    "joblib.dump(rf,filename)"
   ]
  }
 ],
 "metadata": {
  "kaggle": {
   "accelerator": "none",
   "dataSources": [
    {
     "datasetId": 3676558,
     "sourceId": 6379712,
     "sourceType": "datasetVersion"
    }
   ],
   "dockerImageVersionId": 30380,
   "isGpuEnabled": false,
   "isInternetEnabled": true,
   "language": "python",
   "sourceType": "notebook"
  },
  "kernelspec": {
   "display_name": "Python 3",
   "language": "python",
   "name": "python3"
  },
  "language_info": {
   "codemirror_mode": {
    "name": "ipython",
    "version": 3
   },
   "file_extension": ".py",
   "mimetype": "text/x-python",
   "name": "python",
   "nbconvert_exporter": "python",
   "pygments_lexer": "ipython3",
   "version": "3.7.12"
  },
  "papermill": {
   "default_parameters": {},
   "duration": 196.764829,
   "end_time": "2023-11-27T19:32:24.172339",
   "environment_variables": {},
   "exception": null,
   "input_path": "__notebook__.ipynb",
   "output_path": "__notebook__.ipynb",
   "parameters": {},
   "start_time": "2023-11-27T19:29:07.407510",
   "version": "2.3.4"
  }
 },
 "nbformat": 4,
 "nbformat_minor": 5
}
